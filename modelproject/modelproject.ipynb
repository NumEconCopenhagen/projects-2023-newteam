{
 "cells": [
  {
   "cell_type": "markdown",
   "metadata": {},
   "source": [
    "# YOUR PROJECT TITLE"
   ]
  },
  {
   "attachments": {},
   "cell_type": "markdown",
   "metadata": {},
   "source": [
    "> **Note the following:** \n",
    "> 1. This is *not* meant to be an example of an actual **model analysis project**, just an example of how to structure such a project.\n",
    "> 1. Remember the general advice on structuring and commenting your code\n",
    "> 1. The `modelproject.py` file includes a function which could be used multiple times in this notebook."
   ]
  },
  {
   "cell_type": "markdown",
   "metadata": {},
   "source": [
    "Imports and set magics:"
   ]
  },
  {
   "cell_type": "code",
   "execution_count": 2,
   "metadata": {},
   "outputs": [],
   "source": [
    "import numpy as np\n",
    "from scipy import optimize\n",
    "import sympy as sm\n",
    "\n",
    "# autoreload modules when code is run\n",
    "%load_ext autoreload\n",
    "%autoreload 2\n",
    "\n",
    "# local modules\n",
    "import modelproject"
   ]
  },
  {
   "cell_type": "markdown",
   "metadata": {},
   "source": [
    "# Model description"
   ]
  },
  {
   "cell_type": "markdown",
   "metadata": {},
   "source": [
    "**Write out the model in equations here.** \n",
    "\n",
    "Make sure you explain well the purpose of the model and comment so that other students who may not have seen it before can follow.  "
   ]
  },
  {
   "cell_type": "markdown",
   "metadata": {},
   "source": [
    "The Heckscher-Ohlin theorem reveals the reasons why each country has a comparative advantage. They observe that: there are differences in the resources that each country possesses. For example, Argentina has a lot of fertile land, Saudi Arabia has a lot of oil.  And products can be classified according to the different factors of production required.\n",
    "\n",
    "Based on these, they propose the H-O theorem, which states that a country will have a relative advantage in producing products that require a large use of the resources it has in abundance."
   ]
  },
  {
   "attachments": {},
   "cell_type": "markdown",
   "metadata": {},
   "source": [
    "The model follows these assumptions:\n",
    "- there are 2 countries to keep the model simpel\n",
    "- there are 2 factors: capital and labor \n",
    "- Prices are the same everywhere\n",
    "- Tastes in the 2 countries are the same, that means there are no differeneces in preferences\n",
    "- There is perfect competition: firms choose outputlevel at which price = marginal costs, there is free entry and exit of firms in the market and the necessary information is available and perfect\n",
    "- There are no transport costs\n",
    "- There are no trade restrictions"
   ]
  },
  {
   "attachments": {},
   "cell_type": "markdown",
   "metadata": {},
   "source": [
    "Two-country model:"
   ]
  },
  {
   "cell_type": "code",
   "execution_count": 17,
   "metadata": {},
   "outputs": [
    {
     "name": "stdout",
     "output_type": "stream",
     "text": [
      "Without trade:\n",
      "Country 1 maximizes their utility at 700.0 by setting labor and capital for industry 1 at 333 and 1167\n",
      "Country 2 maximizes their utility at 748.3 by setting labor and capital for industry 1 at 667 and 667\n"
     ]
    }
   ],
   "source": [
    "import numpy as np\n",
    "\n",
    "# Define parameters:\n",
    "\n",
    "A1 = 1    # productivity of industry 1\n",
    "A2 = 1    # productivity of industry 2\n",
    "\n",
    "L1 = 500   # total available labor of country 1\n",
    "L2 = 1000  # total available labour of country 2\n",
    "K1 = 3500  # total available capital of country 1\n",
    "K2 = 2000  # total available capital of country 2\n",
    "\n",
    "r = 0.03  # interest rate\n",
    "w = 1     # wage rate\n",
    "\n",
    "\n",
    "alpha1 = 1/3 # capital vs labor weight ratio in production of good 1\n",
    "alpha2 = 2/3 # capital vs labor weight ratio in production of good 2\n",
    "\n",
    "# Define the production functions\n",
    "Q1 = lambda L, K: A1 * (L ** (1-alpha1)) * (K ** alpha1)\n",
    "Q2 = lambda L_tot, L, K_tot, K: A2 * ((L_tot - L) ** (1-alpha2)) * ((K_tot - K) ** alpha2)\n",
    "\n",
    "# Define the utility functions \n",
    "U1 = lambda u1, u2, L, K:(Q1(L, K) ** u1) * (Q2(L1, L, K1, K) ** u2)\n",
    "U2 = lambda u1, u2, L, K:(Q1(L, K) ** u1) * (Q2(L2, L, K2, K) ** u2)\n",
    "\n",
    "\"\"\"For closed economies\"\"\"\n",
    "print(\"Without trade:\")\n",
    "\n",
    "\n",
    "# Calculate best utility for country 1:\n",
    "\n",
    "U1_max = 0\n",
    "\n",
    "for l in range(L1):\n",
    "    for k in range(K1):\n",
    "\n",
    "        utility1 = U1(0.5 , 0.5 , l , k)\n",
    "        if utility1 > U1_max:\n",
    "            U1_max = utility1\n",
    "            L_opt1 = l\n",
    "            K_opt1 = k\n",
    "print(\"Country 1 maximizes their utility at %.1f by setting labor and capital for industry 1 at %.0f and %.0f\" % (U1_max , L_opt1 , K_opt1))\n",
    "\n",
    "# Calculate best utility for country 2:\n",
    "\n",
    "U2_max = 0\n",
    "\n",
    "for l in range(L2):\n",
    "    for k in range(K2):\n",
    "\n",
    "        utility2 = U2(0.5 , 0.5 , l , k)\n",
    "        if utility2 > U2_max:\n",
    "            U2_max = utility2\n",
    "            L_opt2 = l\n",
    "            K_opt2 = k\n",
    "\n",
    "print(\"Country 2 maximizes their utility at %.1f by setting labor and capital for industry 1 at %.0f and %.0f\" % (U2_max , L_opt2 , K_opt2))\n",
    "\n",
    "\n",
    "#  # Define the factor demands\n",
    "#  L1d = lambda w, r, Q1, Q2, L1, K1: (w * Q1(L1, K1)) / (w * Q1(L1, K1) + r * Q2(L1, K1))\n",
    "#  L2d = lambda w, r, Q1, Q2, L2, K2: (w * Q1(L2, K2)) / (w * Q1(L2, K2) + r * Q2(L2, K2))\n",
    "#  K1d = lambda w, r, Q1, Q2, L1, K1: (r * Q2(L1, K1)) / (w * Q1(L1, K1) + r * Q2(L1, K1))\n",
    "#  K2d = lambda w, r, Q1, Q2, L2, K2: (r * Q2(L2, K2)) / (w * Q1(L2, K2) + r * Q2(L2, K2))\n",
    "\n",
    "# # Calculate the factor demands for each country\n",
    "# L1d = L1d(w, r, Q1, Q2, L1, K1)\n",
    "# L2d = L2d(w, r, Q1, Q2, L2, K2)\n",
    "# K1d = K1d(w, r, Q1, Q2, L1, K1)\n",
    "# K2d = K2d(w, r, Q1, Q2, L2, K2)\n",
    "\n",
    "# # Calculate the output of each industry for each country\n",
    "# Q1_1 = Q1(L1, K1)\n",
    "# Q1_2 = Q1(L2, K2)\n",
    "# Q2_1 = Q2(L1, K1)\n",
    "# Q2_2 = Q2(L2, K2)\n",
    "\n",
    "# # Calculate the total output and factor payments for each country\n",
    "# Y1 = Q1_1 + Q2_1\n",
    "# Y2 = Q1_2 + Q2_2\n",
    "# R1 = r * K1d + w * L1d\n",
    "# R2 = r * K2d + w * L2d\n",
    "\n",
    "# # Print the results\n",
    "# print(\"Factor demands:\")\n",
    "# print(\"L1d = %.2f, L2d = %.2f, K1d = %.2f, K2d = %.2f\" % (L1d, L2d, K1d, K2d))\n",
    "# print(\"max potential Output:\")\n",
    "# print(\"Product 1, country 1 = %.2f, Product 1, country 2 = %.2f, Product 2, country 1 = %.2f, Product 2, country 2 = %.2f\" % (Q1_1 , Q1_2 , Q2_1 , Q2_2))\n",
    "\n",
    "\n"
   ]
  },
  {
   "cell_type": "markdown",
   "metadata": {},
   "source": [
    "## Analytical solution"
   ]
  },
  {
   "cell_type": "markdown",
   "metadata": {},
   "source": [
    "If your model allows for an analytical solution, you should provide here.\n",
    "\n",
    "You may use Sympy for this. Then you can characterize the solution as a function of a parameter of the model.\n",
    "\n",
    "To characterize the solution, first derive a steady state equation as a function of a parameter using Sympy.solve and then turn it into a python function by Sympy.lambdify. See the lecture notes for details. "
   ]
  },
  {
   "cell_type": "code",
   "execution_count": 3,
   "metadata": {},
   "outputs": [
    {
     "name": "stdout",
     "output_type": "stream",
     "text": [
      "Autarky prices:\n",
      "P1: 1000**(1 - b)*500**b*500**(b - 1)/1000**b\n",
      "P2: 1000**b*1000**(b - 1)*500**(1 - b)/500**b\n",
      "Relative factor prices:\n",
      "w/r: nan\n"
     ]
    },
    {
     "ename": "TypeError",
     "evalue": "Invalid NaN comparison",
     "output_type": "error",
     "traceback": [
      "\u001b[1;31m---------------------------------------------------------------------------\u001b[0m",
      "\u001b[1;31mTypeError\u001b[0m                                 Traceback (most recent call last)",
      "\u001b[1;32m~\\AppData\\Local\\Temp\\ipykernel_12772\\2238040641.py\u001b[0m in \u001b[0;36m<module>\u001b[1;34m\u001b[0m\n\u001b[0;32m     36\u001b[0m \u001b[1;33m\u001b[0m\u001b[0m\n\u001b[0;32m     37\u001b[0m \u001b[1;31m# Step 6: Determine the pattern of trade\u001b[0m\u001b[1;33m\u001b[0m\u001b[1;33m\u001b[0m\u001b[0m\n\u001b[1;32m---> 38\u001b[1;33m \u001b[1;32mif\u001b[0m \u001b[0mw_star\u001b[0m\u001b[1;33m/\u001b[0m\u001b[0mr_star\u001b[0m \u001b[1;33m>\u001b[0m \u001b[0mP1\u001b[0m\u001b[1;33m/\u001b[0m\u001b[0mP2\u001b[0m\u001b[1;33m:\u001b[0m\u001b[1;33m\u001b[0m\u001b[1;33m\u001b[0m\u001b[0m\n\u001b[0m\u001b[0;32m     39\u001b[0m     \u001b[0mprint\u001b[0m\u001b[1;33m(\u001b[0m\u001b[1;34m\"Country 1 exports the labor-intensive good\"\u001b[0m\u001b[1;33m)\u001b[0m\u001b[1;33m\u001b[0m\u001b[1;33m\u001b[0m\u001b[0m\n\u001b[0;32m     40\u001b[0m \u001b[1;32melse\u001b[0m\u001b[1;33m:\u001b[0m\u001b[1;33m\u001b[0m\u001b[1;33m\u001b[0m\u001b[0m\n",
      "\u001b[1;32mc:\\Users\\lovto\\anaconda3\\lib\\site-packages\\sympy\\core\\decorators.py\u001b[0m in \u001b[0;36m_func\u001b[1;34m(self, other)\u001b[0m\n\u001b[0;32m    234\u001b[0m             \u001b[1;32mif\u001b[0m \u001b[1;32mnot\u001b[0m \u001b[0misinstance\u001b[0m\u001b[1;33m(\u001b[0m\u001b[0mother\u001b[0m\u001b[1;33m,\u001b[0m \u001b[0mexpectedcls\u001b[0m\u001b[1;33m)\u001b[0m\u001b[1;33m:\u001b[0m\u001b[1;33m\u001b[0m\u001b[1;33m\u001b[0m\u001b[0m\n\u001b[0;32m    235\u001b[0m                 \u001b[1;32mreturn\u001b[0m \u001b[0mretval\u001b[0m\u001b[1;33m\u001b[0m\u001b[1;33m\u001b[0m\u001b[0m\n\u001b[1;32m--> 236\u001b[1;33m             \u001b[1;32mreturn\u001b[0m \u001b[0mfunc\u001b[0m\u001b[1;33m(\u001b[0m\u001b[0mself\u001b[0m\u001b[1;33m,\u001b[0m \u001b[0mother\u001b[0m\u001b[1;33m)\u001b[0m\u001b[1;33m\u001b[0m\u001b[1;33m\u001b[0m\u001b[0m\n\u001b[0m\u001b[0;32m    237\u001b[0m \u001b[1;33m\u001b[0m\u001b[0m\n\u001b[0;32m    238\u001b[0m         \u001b[1;32mreturn\u001b[0m \u001b[0m_func\u001b[0m\u001b[1;33m\u001b[0m\u001b[1;33m\u001b[0m\u001b[0m\n",
      "\u001b[1;32mc:\\Users\\lovto\\anaconda3\\lib\\site-packages\\sympy\\core\\expr.py\u001b[0m in \u001b[0;36m__gt__\u001b[1;34m(self, other)\u001b[0m\n\u001b[0;32m    369\u001b[0m     \u001b[1;32mdef\u001b[0m \u001b[0m__gt__\u001b[0m\u001b[1;33m(\u001b[0m\u001b[0mself\u001b[0m\u001b[1;33m,\u001b[0m \u001b[0mother\u001b[0m\u001b[1;33m)\u001b[0m\u001b[1;33m:\u001b[0m\u001b[1;33m\u001b[0m\u001b[1;33m\u001b[0m\u001b[0m\n\u001b[0;32m    370\u001b[0m         \u001b[1;32mfrom\u001b[0m \u001b[1;33m.\u001b[0m\u001b[0mrelational\u001b[0m \u001b[1;32mimport\u001b[0m \u001b[0mStrictGreaterThan\u001b[0m\u001b[1;33m\u001b[0m\u001b[1;33m\u001b[0m\u001b[0m\n\u001b[1;32m--> 371\u001b[1;33m         \u001b[1;32mreturn\u001b[0m \u001b[0mStrictGreaterThan\u001b[0m\u001b[1;33m(\u001b[0m\u001b[0mself\u001b[0m\u001b[1;33m,\u001b[0m \u001b[0mother\u001b[0m\u001b[1;33m)\u001b[0m\u001b[1;33m\u001b[0m\u001b[1;33m\u001b[0m\u001b[0m\n\u001b[0m\u001b[0;32m    372\u001b[0m \u001b[1;33m\u001b[0m\u001b[0m\n\u001b[0;32m    373\u001b[0m     \u001b[1;33m@\u001b[0m\u001b[0msympify_return\u001b[0m\u001b[1;33m(\u001b[0m\u001b[1;33m[\u001b[0m\u001b[1;33m(\u001b[0m\u001b[1;34m'other'\u001b[0m\u001b[1;33m,\u001b[0m \u001b[1;34m'Expr'\u001b[0m\u001b[1;33m)\u001b[0m\u001b[1;33m]\u001b[0m\u001b[1;33m,\u001b[0m \u001b[0mNotImplemented\u001b[0m\u001b[1;33m)\u001b[0m\u001b[1;33m\u001b[0m\u001b[1;33m\u001b[0m\u001b[0m\n",
      "\u001b[1;32mc:\\Users\\lovto\\anaconda3\\lib\\site-packages\\sympy\\core\\relational.py\u001b[0m in \u001b[0;36m__new__\u001b[1;34m(cls, lhs, rhs, **options)\u001b[0m\n\u001b[0;32m    834\u001b[0m                     \u001b[1;32mraise\u001b[0m \u001b[0mTypeError\u001b[0m\u001b[1;33m(\u001b[0m\u001b[1;34m\"Invalid comparison of non-real %s\"\u001b[0m \u001b[1;33m%\u001b[0m \u001b[0mme\u001b[0m\u001b[1;33m)\u001b[0m\u001b[1;33m\u001b[0m\u001b[1;33m\u001b[0m\u001b[0m\n\u001b[0;32m    835\u001b[0m                 \u001b[1;32mif\u001b[0m \u001b[0mme\u001b[0m \u001b[1;32mis\u001b[0m \u001b[0mS\u001b[0m\u001b[1;33m.\u001b[0m\u001b[0mNaN\u001b[0m\u001b[1;33m:\u001b[0m\u001b[1;33m\u001b[0m\u001b[1;33m\u001b[0m\u001b[0m\n\u001b[1;32m--> 836\u001b[1;33m                     \u001b[1;32mraise\u001b[0m \u001b[0mTypeError\u001b[0m\u001b[1;33m(\u001b[0m\u001b[1;34m\"Invalid NaN comparison\"\u001b[0m\u001b[1;33m)\u001b[0m\u001b[1;33m\u001b[0m\u001b[1;33m\u001b[0m\u001b[0m\n\u001b[0m\u001b[0;32m    837\u001b[0m             \u001b[1;31m# First we invoke the appropriate inequality method of `lhs`\u001b[0m\u001b[1;33m\u001b[0m\u001b[1;33m\u001b[0m\u001b[0m\n\u001b[0;32m    838\u001b[0m             \u001b[1;31m# (e.g., `lhs.__lt__`).  That method will try to reduce to\u001b[0m\u001b[1;33m\u001b[0m\u001b[1;33m\u001b[0m\u001b[0m\n",
      "\u001b[1;31mTypeError\u001b[0m: Invalid NaN comparison"
     ]
    }
   ],
   "source": [
    "# Step 1: Define the production function\n",
    "K, L, a, b = sm.symbols('K L a b')\n",
    "Q = a * K**b * L**(1-b)\n",
    "\n",
    "# Step 2: Calculate the factor intensities\n",
    "labor_intensity = Q.diff(L) / Q\n",
    "capital_intensity = Q.diff(K) / Q\n",
    "\n",
    "# Step 3: Determine the factor endowments\n",
    "K1 = 500\n",
    "L1 = 1000\n",
    "K2 = 1000\n",
    "L2 = 500\n",
    "\n",
    "# Step 4: Calculate the autarky prices\n",
    "Q1 = Q.subs([(K, K1), (L, L1)])\n",
    "Q2 = Q.subs([(K, K2), (L, L2)])\n",
    "\n",
    "P1 = Q1 / (a * L1**b * K1**(1-b))\n",
    "P2 = Q2 / (a * L2**b * K2**(1-b))\n",
    "\n",
    "print(\"Autarky prices:\")\n",
    "print(\"P1:\", P1)\n",
    "print(\"P2:\", P2)\n",
    "\n",
    "# Step 5: Calculate the relative factor prices\n",
    "w, r = sm.symbols('w r')\n",
    "eq1 = sm.Eq(w * labor_intensity.subs([(K, K1), (L, L1), (a, a), (b, b)]),\n",
    "           r * capital_intensity.subs([(K, K1), (L, L1), (a, a), (b, b)]))\n",
    "eq2 = sm.Eq(w * labor_intensity.subs([(K, K2), (L, L2), (a, a), (b, b)]),\n",
    "           r * capital_intensity.subs([(K, K2), (L, L2), (a, a), (b, b)]))\n",
    "sol = sm.solve((eq1, eq2), (w, r))\n",
    "w_star, r_star = sol[w], sol[r]\n",
    "print(\"Relative factor prices:\")\n",
    "print(\"w/r:\", w_star/r_star)\n",
    "\n",
    "# Step 6: Determine the pattern of trade\n",
    "if w_star/r_star > P1/P2:\n",
    "    print(\"Country 1 exports the labor-intensive good\")\n",
    "else:\n",
    "    print(\"Country 1 exports the capital-intensive good\")\n",
    "\n",
    "# Step 7: Calculate the equilibrium prices and quantities\n",
    "Q1 = r_star * capital_intensity.subs([(K, K1), (L, L1), (a, a), (b, b)])\n",
    "Q2 = w_star * labor_intensity.subs([(K, K2), (L, L2), (a, a), (b, b)])\n",
    "\n",
    "print(\"Equilibrium prices:\")\n",
    "print(\"P1:\", P1 + Q1)\n",
    "print(\"P2:\", P2 + Q2)\n",
    "print(\"Equilibrium quantities:\")\n",
    "print(\"Q1:\", Q1)\n",
    "print(\"Q2:\", Q2)"
   ]
  },
  {
   "cell_type": "markdown",
   "metadata": {},
   "source": [
    "## Numerical solution"
   ]
  },
  {
   "cell_type": "markdown",
   "metadata": {},
   "source": [
    "You can always solve a model numerically. \n",
    "\n",
    "Define first the set of parameters you need. \n",
    "\n",
    "Then choose one of the optimization algorithms that we have gone through in the lectures based on what you think is most fitting for your model.\n",
    "\n",
    "Are there any problems with convergence? Does the model converge for all starting values? Make a lot of testing to figure these things out. "
   ]
  },
  {
   "cell_type": "markdown",
   "metadata": {},
   "source": [
    "# Further analysis"
   ]
  },
  {
   "cell_type": "markdown",
   "metadata": {},
   "source": [
    "Make detailed vizualizations of how your model changes with parameter values. \n",
    "\n",
    "Try to make an extension of the model. "
   ]
  },
  {
   "cell_type": "markdown",
   "metadata": {},
   "source": [
    "# Conclusion"
   ]
  },
  {
   "cell_type": "markdown",
   "metadata": {},
   "source": [
    "Add concise conclusion. "
   ]
  }
 ],
 "metadata": {
  "kernelspec": {
   "display_name": "base",
   "language": "python",
   "name": "python3"
  },
  "language_info": {
   "codemirror_mode": {
    "name": "ipython",
    "version": 3
   },
   "file_extension": ".py",
   "mimetype": "text/x-python",
   "name": "python",
   "nbconvert_exporter": "python",
   "pygments_lexer": "ipython3",
   "version": "3.9.16"
  },
  "toc-autonumbering": true,
  "vscode": {
   "interpreter": {
    "hash": "47ef90cdf3004d3f859f1fb202523c65c07ba7c22eefd261b181f4744e2d0403"
   }
  }
 },
 "nbformat": 4,
 "nbformat_minor": 4
}
