{
 "cells": [
  {
   "attachments": {},
   "cell_type": "markdown",
   "metadata": {},
   "source": [
    "# YOUR PROJECT TITLE"
   ]
  },
  {
   "attachments": {},
   "cell_type": "markdown",
   "metadata": {},
   "source": [
    "> **Note the following:** \n",
    "> 1. This is *not* meant to be an example of an actual **model analysis project**, just an example of how to structure such a project.\n",
    "> 1. Remember the general advice on structuring and commenting your code\n",
    "> 1. The `modelproject.py` file includes a function which could be used multiple times in this notebook."
   ]
  },
  {
   "attachments": {},
   "cell_type": "markdown",
   "metadata": {},
   "source": [
    "Imports and set magics:"
   ]
  },
  {
   "cell_type": "code",
   "execution_count": 9,
   "metadata": {},
   "outputs": [
    {
     "name": "stdout",
     "output_type": "stream",
     "text": [
      "The autoreload extension is already loaded. To reload it, use:\n",
      "  %reload_ext autoreload\n"
     ]
    }
   ],
   "source": [
    "import numpy as np\n",
    "from scipy import optimize\n",
    "import sympy as sm\n",
    "import matplotlib.pyplot as plt\n",
    "\n",
    "# autoreload modules when code is run\n",
    "%load_ext autoreload\n",
    "%autoreload 2\n",
    "\n",
    "# local modules\n",
    "import modelproject"
   ]
  },
  {
   "attachments": {},
   "cell_type": "markdown",
   "metadata": {},
   "source": [
    "# Model description"
   ]
  },
  {
   "attachments": {},
   "cell_type": "markdown",
   "metadata": {},
   "source": [
    "The Heckscher-Ohlin theorem reveals the reasons why each country has a comparative advantage. They observe that: there are differences in the resources that each country possesses. For example, Argentina has a lot of fertile land, Saudi Arabia has a lot of oil.  And products can be classified according to the different factors of production required.\n",
    "\n",
    "Based on these, they propose the H-O theorem, which states that a country will have a relative advantage in producing products that require a large use of the resources it has in abundance."
   ]
  },
  {
   "attachments": {},
   "cell_type": "markdown",
   "metadata": {},
   "source": [
    "The model follows these assumptions:\n",
    "- there are 2 countries to keep the model simpel\n",
    "- there are 2 factors: capital and labor \n",
    "- Prices are the same everywhere\n",
    "- Tastes in the 2 countries are the same, that means there are no differeneces in preferences\n",
    "- There is perfect competition: firms choose outputlevel at which price = marginal costs, there is free entry and exit of firms in the market and the necessary information is available and perfect\n",
    "- There are no transport costs\n",
    "- There are no trade restrictions"
   ]
  },
  {
   "attachments": {},
   "cell_type": "markdown",
   "metadata": {},
   "source": [
    "Two-country model:"
   ]
  },
  {
   "attachments": {},
   "cell_type": "markdown",
   "metadata": {},
   "source": [
    "This code calculates the optimal production and utility levels for two closed economies, based on given parameters such as productivity, available labor and capital, and utility weight ratios. The economies produce two goods, with different capital vs. labor weight ratios in their production functions.\n",
    "\n",
    "The production functions for the two goods are defined using lambda functions, which take as inputs the quantities of labor and capital used in each industry, and return the quantity produced. The utility functions are also defined using lambda functions, which take as inputs the weight ratio for each good in the utility function, as well as the quantities of labor and capital used in each industry, and return the overall utility level.\n",
    "\n",
    "The code then uses nested loops to search through all possible combinations of labor and capital quantities for each country, in order to find the optimal levels that maximize utility. The optimal levels are determined by calculating the utility function for each combination and comparing it to the previous maximum utility found."
   ]
  },
  {
   "cell_type": "code",
   "execution_count": 3,
   "metadata": {},
   "outputs": [
    {
     "name": "stdout",
     "output_type": "stream",
     "text": [
      "Without trade:\n",
      "Country 1 maximizes their utility at 221.4 by setting labor and capital for industry 1 at 333 and 117\n",
      "Country 2 maximizes their utility at 74.8 by setting labor and capital for industry 1 at 67 and 67\n",
      "\n",
      "Total production of country 1:\n",
      " Industry 1: 235.0 \n",
      " Industry 2: 208.5 \n",
      "\n",
      "Total production of country 2:\n",
      " Industry 1: 67.0\n",
      " Industry 2: 83.6\n"
     ]
    }
   ],
   "source": [
    "import numpy as np\n",
    "\n",
    "# Define parameters:\n",
    "\n",
    "A1 = 1    # productivity of industry 1\n",
    "A2 = 1    # productivity of industry 2\n",
    "\n",
    "L1 = 500   # total available labor of country 1\n",
    "L2 = 100  # total available labour of country 2\n",
    "K1 = 350  # total available capital of country 1\n",
    "K2 = 200  # total available capital of country 2\n",
    "\n",
    "r = 0.03  # interest rate\n",
    "w = 1     # wage rate\n",
    "\n",
    "\n",
    "alpha1 = 1/3 # capital vs labor weight ratio in production of good 1\n",
    "alpha2 = 2/3 # capital vs labor weight ratio in production of good 2\n",
    "\n",
    "beta1 = 0.5 # product 1 vs 2 weight ratio in utility for country 1\n",
    "beta2 = 0.5 # product 1 vs 2 weight ratio in utility for country 2\n",
    "\n",
    "# Define the production functions\n",
    "Q1 = lambda L, K: A1 * (L ** (1 - alpha1)) * (K ** alpha1)\n",
    "Q2 = lambda L_tot, L, K_tot, K: A2 * ((L_tot - L) ** (1 - alpha2)) * ((K_tot - K) ** alpha2)\n",
    "\n",
    "# Define the utility functions \n",
    "U1 = lambda u, L, K:(Q1(L, K) ** u) * (Q2(L1, L, K1, K) ** (1 - u))\n",
    "U2 = lambda u, L, K:(Q1(L, K) ** u) * (Q2(L2, L, K2, K) ** (1 - u))\n",
    "\n",
    "\"\"\"For closed economies\"\"\"\n",
    "print(\"Without trade:\")\n",
    "\n",
    "\n",
    "# Calculate best utility for country 1:\n",
    "\n",
    "U1_max = 0\n",
    "\n",
    "for l in range(L1):\n",
    "    for k in range(K1):\n",
    "\n",
    "        utility1 = U1(beta1  , l , k)\n",
    "        if utility1 > U1_max:\n",
    "            U1_max = utility1\n",
    "            L_opt1 = l\n",
    "            K_opt1 = k\n",
    "print(\"Country 1 maximizes their utility at %.1f by setting labor and capital for industry 1 at %.0f and %.0f\" % (U1_max , L_opt1 , K_opt1))\n",
    "\n",
    "# Calculate best utility for country 2:\n",
    "\n",
    "U2_max = 0\n",
    "\n",
    "for l in range(L2):\n",
    "    for k in range(K2):\n",
    "\n",
    "        utility2 = U2(beta2 , l , k)\n",
    "        if utility2 > U2_max:\n",
    "            U2_max = utility2\n",
    "            L_opt2 = l\n",
    "            K_opt2 = k\n",
    "\n",
    "print(\"Country 2 maximizes their utility at %.1f by setting labor and capital for industry 1 at %.0f and %.0f\\n\" % (U2_max , L_opt2 , K_opt2))\n",
    "\n",
    "# Goods produced at given level:\n",
    "\n",
    "Q11 = Q1(L_opt1 , K_opt1)\n",
    "Q21 = Q2(L1 , L_opt1 , K1 , K_opt1)\n",
    "Q12 = Q1(L_opt2 , K_opt2)\n",
    "Q22 = Q2(L2 , L_opt2 , K2 , K_opt2)\n",
    "\n",
    "print(\"Total production of country 1:\\n Industry 1: %.1f \\n Industry 2: %.1f \\n\\nTotal production of country 2:\\n Industry 1: %.1f\\n Industry 2: %.1f\" % (Q11 , Q21 , Q12 , Q22))\n",
    "\n",
    "\n",
    "\n"
   ]
  },
  {
   "attachments": {},
   "cell_type": "markdown",
   "metadata": {},
   "source": [
    "In the absence of trade, our model predicts that country 1 can maximize its utility by allocating 333 units of labor and 117 units of capital to industry 1, resulting in a maximum utility of 221.4. Meanwhile, country 2 can achieve a maximum utility of 74.8 by allocating 67 units of labor and 67 units of capital to industry 1.\n",
    "\n",
    "As a result, country 1 produces 235 units of industry 1 and 208.5 units of industry 2, while country 2 produces 67 units of industry 1 and 83.6 units of industry 2. These results suggest that country 1 is more productive than country 2, due to its higher total production and utility."
   ]
  },
  {
   "attachments": {},
   "cell_type": "markdown",
   "metadata": {},
   "source": [
    "## Numerical solution"
   ]
  },
  {
   "attachments": {},
   "cell_type": "markdown",
   "metadata": {},
   "source": [
    "You can always solve a model numerically. \n",
    "\n",
    "Define first the set of parameters you need. \n",
    "\n",
    "Then choose one of the optimization algorithms that we have gone through in the lectures based on what you think is most fitting for your model.\n",
    "\n",
    "Are there any problems with convergence? Does the model converge for all starting values? Make a lot of testing to figure these things out. "
   ]
  },
  {
   "attachments": {},
   "cell_type": "markdown",
   "metadata": {},
   "source": [
    "MRS calculations"
   ]
  },
  {
   "cell_type": "code",
   "execution_count": 4,
   "metadata": {},
   "outputs": [
    {
     "name": "stdout",
     "output_type": "stream",
     "text": [
      "\n",
      " MRS: \n",
      "Country 1:\n",
      " Product 1: 0.0326\n",
      " Product 2: 0.0346\n",
      "\n",
      "Country 2:\n",
      " Product 1: 0.0611\n",
      " Product 2: 0.0547\n",
      "\n",
      "MRS, product 1 for product 2:\n",
      "\n",
      " Country 1: 0.942\n",
      "\n",
      " Country 2: 1.117\n",
      "\n",
      "Marginal utility:\n",
      "\n",
      " Country 1:\n",
      "  Labor: -0.0003\n",
      "  Capital: -0.0034 \n",
      "\n",
      " Country 2:\n",
      "  Labor: -0.0142\n",
      "  Capital: -0.0035\n"
     ]
    }
   ],
   "source": [
    "# Marginal Utility \n",
    "\n",
    "# Marginal rate of substitution:\n",
    "\n",
    "dU11 = beta1 * Q11 ** (beta1-1)\n",
    "dU21 = beta1 * Q21 ** (beta1-1)\n",
    "dU12 = beta2 * Q12 ** (beta2-1)\n",
    "dU22 = beta2 * Q22 ** (beta2-1)\n",
    "\n",
    "MRS1 = dU11/dU21\n",
    "MRS2 = dU12/dU22\n",
    "\n",
    "print(\"\\n MRS: \\nCountry 1:\\n Product 1: %.4f\\n Product 2: %.4f\\n\\nCountry 2:\\n Product 1: %.4f\\n Product 2: %.4f\" % (dU11 , dU21 , dU12 , dU22))\n",
    "print(\"\\nMRS, product 1 for product 2:\\n\\n Country 1: %.3f\\n\\n Country 2: %.3f\" % (MRS1 , MRS2))\n",
    "\n",
    "#(Change in utility with one unit of labor added)\n",
    "U1_diff_L = U1(beta1 , (L_opt1 + 1) , K_opt1)\n",
    "U2_diff_L = U2(beta2 , (L_opt2 + 1) , K_opt2)\n",
    "\n",
    "MRU1L = U1_diff_L - U1_max\n",
    "MRU2L = U2_diff_L - U2_max\n",
    "\n",
    "#(Change in utility with one unit of labor added)\n",
    "U1_diff_K = U1(beta1 , L_opt1 , (K_opt1 + 1))\n",
    "U2_diff_K = U2(beta2 , L_opt2 , (K_opt2 + 1))\n",
    "\n",
    "MRU1K = U1_diff_K - U1_max\n",
    "MRU2K = U2_diff_K - U2_max\n",
    "\n",
    "print(\"\\nMarginal utility:\\n\\n Country 1:\\n  Labor: %.4f\\n  Capital: %.4f \\n\\n Country 2:\\n  Labor: %.4f\\n  Capital: %.4f\" % (MRU1L , MRU1K , MRU2L , MRU2K))\n",
    "\n"
   ]
  },
  {
   "attachments": {},
   "cell_type": "markdown",
   "metadata": {},
   "source": [
    "# Further analysis"
   ]
  },
  {
   "cell_type": "code",
   "execution_count": 5,
   "metadata": {},
   "outputs": [
    {
     "name": "stdout",
     "output_type": "stream",
     "text": [
      "country 1 is more labor intensive than country 2\n"
     ]
    }
   ],
   "source": [
    "# With trade\n",
    "\n",
    "# Capital-Labor relationship\n",
    "\n",
    "KL1 = K1/L1\n",
    "KL2 = K2/L2\n",
    "\n",
    "KL_diff = KL1 - KL2\n",
    "if KL_diff<0:\n",
    "    print(\"country 1 is more labor intensive than country 2\")\n",
    "elif KL_diff>0:\n",
    "    print(\"country 1 is more capital intensive than country 2\")\n",
    "elif KL_diff == 0:\n",
    "    print(\"The countries have the same labor-capital ratio\")\n",
    "\n",
    "\n",
    "\n",
    "# Find marginal rate of substitution:\n",
    "\n"
   ]
  },
  {
   "attachments": {},
   "cell_type": "markdown",
   "metadata": {},
   "source": [
    "# Conclusion"
   ]
  },
  {
   "attachments": {},
   "cell_type": "markdown",
   "metadata": {},
   "source": [
    "Make detailed vizualizations of how your model changes with parameter values. \n",
    "\n",
    "Try to make an extension of the model. "
   ]
  },
  {
   "attachments": {},
   "cell_type": "markdown",
   "metadata": {},
   "source": [
    "To make it easier to understand we want to provide some vizualizations to our code. First we show hom many units each country produces in both Industries in absence of trade"
   ]
  },
  {
   "cell_type": "code",
   "execution_count": 10,
   "metadata": {},
   "outputs": [
    {
     "data": {
      "image/png": "[encoded data removed]",
      "text/plain": [
       "<Figure size 640x480 with 1 Axes>"
      ]
     },
     "metadata": {},
     "output_type": "display_data"
    }
   ],
   "source": [
    "#code vizualization\n",
    "\n",
    "# Plotting the production quantities\n",
    "country_labels = ['Country 1', 'Country 2']\n",
    "industry_labels = ['Industry 1', 'Industry 2']\n",
    "production_quantities = [[Q11, Q21], [Q12, Q22]]\n",
    "\n",
    "fig, ax = plt.subplots()\n",
    "\n",
    "# Create bar plots\n",
    "for i in range(len(country_labels)):\n",
    "    ax.bar(industry_labels, production_quantities[i], label=country_labels[i])\n",
    "\n",
    "# Add labels and title\n",
    "ax.set_xlabel('Industry')\n",
    "ax.set_ylabel('Production')\n",
    "ax.set_title('Production Quantities for both Industries')\n",
    "\n",
    "# Add legend\n",
    "ax.legend()\n",
    "\n",
    "# Display the plot\n",
    "plt.show()"
   ]
  },
  {
   "attachments": {},
   "cell_type": "markdown",
   "metadata": {},
   "source": [
    "As an extension we want to see how the optimal behavior of a country changes with different shocks, hence we consider: \n",
    "\n",
    "- An Earthquake in country 1 that destroys capital: $K$ falls \n",
    "- Technological improvment in country 1: $A1$ increases\n",
    "- A Policy that allows for more Migration leading to more Laborforce in country 1: $L1$ increases\n",
    "\n",
    "We want to test these adjusments under ceteris paribus assumption. "
   ]
  },
  {
   "cell_type": "code",
   "execution_count": null,
   "metadata": {},
   "outputs": [],
   "source": [
    "#code extension\n",
    "\n"
   ]
  },
  {
   "attachments": {},
   "cell_type": "markdown",
   "metadata": {},
   "source": [
    "Add concise conclusion. "
   ]
  },
  {
   "attachments": {},
   "cell_type": "markdown",
   "metadata": {},
   "source": [
    "## Analytical solution"
   ]
  },
  {
   "attachments": {},
   "cell_type": "markdown",
   "metadata": {},
   "source": [
    "If your model allows for an analytical solution, you should provide here.\n",
    "\n",
    "You may use Sympy for this. Then you can characterize the solution as a function of a parameter of the model.\n",
    "\n",
    "To characterize the solution, first derive a steady state equation as a function of a parameter using Sympy.solve and then turn it into a python function by Sympy.lambdify. See the lecture notes for details. "
   ]
  },
  {
   "cell_type": "code",
   "execution_count": null,
   "metadata": {},
   "outputs": [],
   "source": []
  }
 ],
 "metadata": {
  "kernelspec": {
   "display_name": "base",
   "language": "python",
   "name": "python3"
  },
  "language_info": {
   "codemirror_mode": {
    "name": "ipython",
    "version": 3
   },
   "file_extension": ".py",
   "mimetype": "text/x-python",
   "name": "python",
   "nbconvert_exporter": "python",
   "pygments_lexer": "ipython3",
   "version": "3.8.16"
  },
  "toc-autonumbering": true,
  "vscode": {
   "interpreter": {
    "hash": "47ef90cdf3004d3f859f1fb202523c65c07ba7c22eefd261b181f4744e2d0403"
   }
  }
 },
 "nbformat": 4,
 "nbformat_minor": 4
}
