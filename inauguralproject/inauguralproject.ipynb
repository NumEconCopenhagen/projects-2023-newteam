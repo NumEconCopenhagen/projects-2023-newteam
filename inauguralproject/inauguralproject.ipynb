{
 "cells": [
  {
   "cell_type": "markdown",
   "metadata": {},
   "source": [
    "# Inaugural Project"
   ]
  },
  {
   "attachments": {},
   "cell_type": "markdown",
   "metadata": {},
   "source": [
    "> **Note the following:** \n",
    "> 1. This is an example of how to structure your **inaugural project**.\n",
    "> 1. Remember the general advice on structuring and commenting your code\n",
    "> 1. The `inauguralproject.py` file includes a function which can be used multiple times in this notebook."
   ]
  },
  {
   "cell_type": "markdown",
   "metadata": {},
   "source": [
    "Imports and set magics:"
   ]
  },
  {
   "cell_type": "markdown",
   "metadata": {},
   "source": [
    "# Question 1"
   ]
  },
  {
   "cell_type": "code",
   "execution_count": 11,
   "metadata": {},
   "outputs": [
    {
     "name": "stdout",
     "output_type": "stream",
     "text": [
      "The autoreload extension is already loaded. To reload it, use:\n",
      "  %reload_ext autoreload\n"
     ]
    }
   ],
   "source": [
    "import numpy as np\n",
    "\n",
    "# autoreload modules when code is run. Otherwise, python will not see recent changes. \n",
    "%load_ext autoreload\n",
    "%autoreload 2\n",
    "\n",
    "# Import your own code\n",
    "import inauguralproject\n",
    "\n",
    "#import packages\n",
    "\n",
    "import matplotlib.pyplot as plt\n",
    "from scipy import optimize\n",
    "import pandas as pd\n"
   ]
  },
  {
   "cell_type": "code",
   "execution_count": 12,
   "metadata": {},
   "outputs": [],
   "source": [
    "model = inauguralproject.inauguralproject()"
   ]
  },
  {
   "cell_type": "code",
   "execution_count": 13,
   "metadata": {},
   "outputs": [
    {
     "name": "stderr",
     "output_type": "stream",
     "text": [
      "C:\\Users\\Archie\\AppData\\Local\\Temp\\ipykernel_17888\\1661402127.py:12: RuntimeWarning: invalid value encountered in double_scalars\n",
      "  optm[it, jt] = opt.HM/opt.HF\n"
     ]
    }
   ],
   "source": [
    "#create list with new values of alpha and solve\n",
    "al = [0.25, .5, .75]\n",
    "#create list with new values of sigma and solve\n",
    "sl = [0.5, 1, 1.5]\n",
    "optm = np.zeros([3,3])\n",
    "for it, a in enumerate(al):\n",
    "    model.par.alpha = a\n",
    "\n",
    "    for jt, s in enumerate(sl):\n",
    "        model.par.sigma = s\n",
    "        opt = model.solve_discrete()\n",
    "        optm[it, jt] = opt.HM/opt.HF\n",
    "\n",
    "\n"
   ]
  },
  {
   "cell_type": "code",
   "execution_count": 14,
   "metadata": {},
   "outputs": [
    {
     "data": {
      "text/plain": [
       "array([[       nan, 3.25      , 8.        ],\n",
       "       [       nan, 1.        , 0.8       ],\n",
       "       [       nan, 0.30769231, 0.125     ]])"
      ]
     },
     "execution_count": 14,
     "metadata": {},
     "output_type": "execute_result"
    }
   ],
   "source": [
    "optm"
   ]
  },
  {
   "attachments": {},
   "cell_type": "markdown",
   "metadata": {},
   "source": []
  },
  {
   "cell_type": "markdown",
   "metadata": {},
   "source": [
    "# Question 2"
   ]
  },
  {
   "cell_type": "markdown",
   "metadata": {},
   "source": [
    "Explain your code and procedure"
   ]
  },
  {
   "cell_type": "code",
   "execution_count": null,
   "metadata": {},
   "outputs": [
    {
     "ename": "IndentationError",
     "evalue": "unexpected indent (3040642881.py, line 3)",
     "output_type": "error",
     "traceback": [
      "\u001b[1;36m  File \u001b[1;32m\"C:\\Users\\Archie\\AppData\\Local\\Temp\\ipykernel_3040\\3040642881.py\"\u001b[1;36m, line \u001b[1;32m3\u001b[0m\n\u001b[1;33m    for it, w in enumerate(WFl):\u001b[0m\n\u001b[1;37m    ^\u001b[0m\n\u001b[1;31mIndentationError\u001b[0m\u001b[1;31m:\u001b[0m unexpected indent\n"
     ]
    }
   ],
   "source": [
    "#create list with new values of WF\n",
    "wFl = [0.8, 0.9, 1.0, 1.1, 1.2]\n",
    "for it, w in enumerate(wFl):\n",
    "    model.par.WF = w\n",
    "\n",
    "#define Hf/Hm\n",
    "    x = np.log () #how to define HF/HM??\n",
    "\n",
    "#define wf/wm\n",
    "    y = np.log (model.par.wF/ model.par.wM)\n",
    "\n",
    "# plot \n",
    "    plt.plot(x,y)\n",
    "\n",
    "# Set plot labels and title\n",
    "    plt.xlabel('log of HM/WM')\n",
    "    plt.ylabel('log of WF/WM')\n",
    "    plt.title('Logarithmic plot')"
   ]
  },
  {
   "cell_type": "markdown",
   "metadata": {},
   "source": [
    "# Question 3"
   ]
  },
  {
   "cell_type": "markdown",
   "metadata": {},
   "source": [
    "Explain your code and procedure"
   ]
  },
  {
   "cell_type": "code",
   "execution_count": null,
   "metadata": {},
   "outputs": [],
   "source": [
    "def solve(self, do_print=False):\n",
    "    \"\"\" solve model continously \"\"\"\n",
    "\n",
    "    par = self.par\n",
    "    sol = self.sol\n",
    "\n",
    "    # a. objective function\n",
    "    def obj(HF):\n",
    "        HM = optimize.minimize_scalar(lambda HM: -self.calc_utility(HM+HF*par.alpha/(1-par.alpha),HM,HF-par.alpha/(1-par.alpha)*HM,HF),\n",
    "                                      bounds=(1e-8,24), method='bounded').x\n",
    "        LM = 24 - HM\n",
    "        LF = 24 - HF\n",
    "        return np.log(HF/HM)\n",
    "\n",
    "    # b. solve for different values of wF\n",
    "    for i, wF in enumerate(par.wF_vec):\n",
    "        par.wF = wF\n",
    "        sol.HF_vec[i] = optimize.minimize_scalar(lambda HF: -obj(HF), bounds=(1e-8,24), method='bounded').x\n",
    "        sol.HM_vec[i] = optimize.minimize_scalar(lambda HM: -self.calc_utility(HM+sol.HF_vec[i]*par.alpha/(1-par.alpha),HM,sol.HF_vec[i]-par.alpha/(1-par.alpha)*HM,sol.HF_vec[i]),\n",
    "                                                  bounds=(1e-8,24), method='bounded').x\n",
    "        sol.LM_vec[i] = 24 - sol.HM_vec[i]\n",
    "        sol.LF_vec[i] = 24 - sol.HF_vec[i]\n",
    "\n",
    "    # c. print results\n",
    "    if do_print:\n",
    "        for i, wF in enumerate(par.wF_vec):\n",
    "            print(f\"wF = {wF:.2f}, HF = {sol.HF_vec[i]:.4f}, HM = {sol.HM_vec[i]:.4f}\")\n",
    "\n",
    "    "
   ]
  },
  {
   "cell_type": "code",
   "execution_count": null,
   "metadata": {},
   "outputs": [],
   "source": [
    "\n",
    "# plot results\n"
   ]
  },
  {
   "cell_type": "markdown",
   "metadata": {},
   "source": [
    "ADD CONCISE CONLUSION."
   ]
  }
 ],
 "metadata": {
  "kernelspec": {
   "display_name": "base",
   "language": "python",
   "name": "python3"
  },
  "language_info": {
   "codemirror_mode": {
    "name": "ipython",
    "version": 3
   },
   "file_extension": ".py",
   "mimetype": "text/x-python",
   "name": "python",
   "nbconvert_exporter": "python",
   "pygments_lexer": "ipython3",
   "version": "3.8.16"
  },
  "toc-autonumbering": true,
  "vscode": {
   "interpreter": {
    "hash": "73e174c175f6e9fb27815dde57d54b61eca01ca907500180280e270abef9a4fa"
   }
  }
 },
 "nbformat": 4,
 "nbformat_minor": 4
}
