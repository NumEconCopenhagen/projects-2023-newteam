{
 "cells": [
  {
   "cell_type": "markdown",
   "metadata": {},
   "source": [
    "# Inaugural Project"
   ]
  },
  {
   "attachments": {},
   "cell_type": "markdown",
   "metadata": {},
   "source": [
    "> **Note the following:** \n",
    "> 1. This is an example of how to structure your **inaugural project**.\n",
    "> 1. Remember the general advice on structuring and commenting your code\n",
    "> 1. The `inauguralproject.py` file includes a function which can be used multiple times in this notebook."
   ]
  },
  {
   "cell_type": "markdown",
   "metadata": {},
   "source": [
    "Imports and set magics:"
   ]
  },
  {
   "cell_type": "markdown",
   "metadata": {},
   "source": [
    "# Question 1"
   ]
  },
  {
   "cell_type": "code",
   "execution_count": 152,
   "metadata": {},
   "outputs": [
    {
     "name": "stdout",
     "output_type": "stream",
     "text": [
      "The autoreload extension is already loaded. To reload it, use:\n",
      "  %reload_ext autoreload\n"
     ]
    }
   ],
   "source": [
    "import numpy as np\n",
    "\n",
    "# autoreload modules when code is run. Otherwise, python will not see recent changes. \n",
    "%load_ext autoreload\n",
    "%autoreload 2\n",
    "\n",
    "# Import your own code\n",
    "import inauguralproject\n",
    "\n",
    "#import packages\n",
    "\n",
    "import matplotlib.pyplot as plt\n",
    "from scipy import optimize\n",
    "import pandas as pd\n"
   ]
  },
  {
   "cell_type": "code",
   "execution_count": 58,
   "metadata": {},
   "outputs": [],
   "source": [
    "model = inauguralproject.inauguralproject()"
   ]
  },
  {
   "attachments": {},
   "cell_type": "markdown",
   "metadata": {},
   "source": [
    "After having installed all the necessary packages and having set the class inagural project. We create two lists for the values of alpha and sigma. We slove the model by looping trough all the values of both variables sigma and alpha. Finally we store the results in a matrix for a better presentation. In addition show the results in a plot in order to have a visual presentation too. "
   ]
  },
  {
   "cell_type": "code",
   "execution_count": 39,
   "metadata": {},
   "outputs": [
    {
     "name": "stderr",
     "output_type": "stream",
     "text": [
      "c:\\Users\\lovto\\Desktop\\UiB\\Intro to programming & numerical analysis\\Git folders\\Inaugural-project\\projects-2023-newteam-1\\inauguralproject\\inauguralproject.py:61: RuntimeWarning: divide by zero encountered in reciprocal\n",
      "  H = ((1- par.alpha)*HM**((par.sigma -1)/par.sigma)+ par.alpha*HF**((par.sigma -1)/par.sigma))**(par.sigma/(par.sigma - 1))\n"
     ]
    },
    {
     "name": "stdout",
     "output_type": "stream",
     "text": [
      "alpha = 0.25 and sigma = 0.5, HF/HM = 3.0000 / 5.5000 = 0.5455\n",
      "alpha = 0.25 and sigma = 1, HF/HM = 2.0000 / 6.5000 = 0.3077\n",
      "alpha = 0.25 and sigma = 1.5, HF/HM = 1.5000 / 7.0000 = 0.2143\n",
      "alpha = 0.5 and sigma = 0.5, HF/HM = 4.5000 / 4.5000 = 1.0000\n",
      "alpha = 0.5 and sigma = 1, HF/HM = 4.5000 / 4.5000 = 1.0000\n",
      "alpha = 0.5 and sigma = 1.5, HF/HM = 4.5000 / 4.5000 = 1.0000\n",
      "alpha = 0.75 and sigma = 0.5, HF/HM = 5.5000 / 3.0000 = 1.8333\n",
      "alpha = 0.75 and sigma = 1, HF/HM = 6.5000 / 2.0000 = 3.2500\n",
      "alpha = 0.75 and sigma = 1.5, HF/HM = 7.0000 / 1.5000 = 4.6667\n",
      "[[1.83333333 3.25       4.66666667]\n",
      " [1.         1.         1.        ]\n",
      " [0.54545455 0.30769231 0.21428571]]\n"
     ]
    },
    {
     "data": {
      "image/png": "[encoded data removed]",
      "text/plain": [
       "<Figure size 640x480 with 1 Axes>"
      ]
     },
     "metadata": {},
     "output_type": "display_data"
    }
   ],
   "source": [
    "#create list with new values of alpha and solve\n",
    "al = [0.25, .5, .75]\n",
    "\n",
    "#create list with new values of sigma and solve\n",
    "sl = [0.5, 1, 1.5]\n",
    "\n",
    "#create an empty matrix to store the results\n",
    "optm = np.zeros([3,3])\n",
    "\n",
    "#create a loop to go trough all the values of alpha and sigma, solve the model\n",
    "for it, a in enumerate(al):\n",
    "    model.par.alpha = a\n",
    "\n",
    "    for jt, s in enumerate(sl):\n",
    "\n",
    "        model.par.sigma = s\n",
    "        opt = model.solve_discrete()\n",
    "\n",
    "        #print the values of alpha, sigma and the ratio of HM/HF (to check if it seems correct)\n",
    "        \n",
    "        print(f\"alpha = {a} and sigma = {s}, HF/HM = {opt.HF:.4f} / {opt.HM:.4f} = {opt.HF/opt.HM:.4f}\")\n",
    "        \n",
    "        #fill in the values of HM/HF into the matrix optm \n",
    "        optm[it, jt] = opt.HM/opt.HF\n",
    "\n",
    "#print the matrix\n",
    "print(optm)\n",
    "\n",
    "\n",
    "#plot the results \n",
    "\n",
    "#create empty dictionary \n",
    "res_HF = {}\n",
    "res_HM = {}\n",
    "res_HFHM = {}\n",
    "\n",
    "# and store the results\n",
    "res_HF = opt.HF\n",
    "res_HM = opt.HM\n",
    "res_HFHM = optm\n",
    "\n",
    "# create the figure for visual presentation of the results \n",
    "fig = plt.figure()\n",
    "\n",
    "# plot the results \n",
    "ax = fig.add_subplot(1,1,1)\n",
    "\n",
    "ax.plot(res_HF, res_HM, res_HFHM)\n",
    "\n",
    "# label the axes and title \n",
    "ax.set_title('Variation of $HF/HM$')\n",
    "ax.set_xlabel('Value of $Alpha$')\n",
    "ax.set_ylabel('Value of $Sigma$');              "
   ]
  },
  {
   "attachments": {},
   "cell_type": "markdown",
   "metadata": {},
   "source": []
  },
  {
   "cell_type": "code",
   "execution_count": 4,
   "metadata": {},
   "outputs": [
    {
     "name": "stdout",
     "output_type": "stream",
     "text": [
      "[[1.83333333 3.25       4.66666667]\n",
      " [1.         1.         1.        ]\n",
      " [0.54545455 0.30769231 0.21428571]]\n"
     ]
    }
   ],
   "source": [
    "print(optm)"
   ]
  },
  {
   "attachments": {},
   "cell_type": "markdown",
   "metadata": {},
   "source": [
    "Sigma is the elasticity of substiution and alpha/ (1-alpha) represents the productivity in home production for female relative to males. Therefore the productivity is equal when alpha = 0.5. In the matrix we can see how the Hours worked at Home by men and women change with alpha and sigma. "
   ]
  },
  {
   "cell_type": "markdown",
   "metadata": {},
   "source": [
    "# Question 2"
   ]
  },
  {
   "cell_type": "markdown",
   "metadata": {},
   "source": [
    "Explain your code and procedure"
   ]
  },
  {
   "attachments": {},
   "cell_type": "markdown",
   "metadata": {},
   "source": [
    "First we reset the values of alpha and sigma to the values of the basic model, meaning alpha = 0.5 and simga = 1. We are interested by the variation of the female wage and therefore create an array with the values for wF. As in Q1 we also solve the model by looping trough all the values (here of wF). WE then stroe the results in the empty lists that we created and plot the results. "
   ]
  },
  {
   "cell_type": "code",
   "execution_count": 20,
   "metadata": {},
   "outputs": [
    {
     "data": {
      "image/png": "[encoded data removed]",
      "text/plain": [
       "<Figure size 640x480 with 1 Axes>"
      ]
     },
     "metadata": {},
     "output_type": "display_data"
    }
   ],
   "source": [
    "\n",
    "#reset alpha and sigma to default value\n",
    "\n",
    "model.par.alpha = 0.5\n",
    "model.par.sigma = 1\n",
    "\n",
    "#create list with new values of WF\n",
    "wF_values = np.array([0.8, 0.9, 1.0, 1.1, 1.2])\n",
    "\n",
    "#create empty lists for storing results\n",
    "log_HF_HM = np.zeros(5)\n",
    "log_WF_WM = np.zeros(5)\n",
    "\n",
    "#loop trough all the values of wF \n",
    "\n",
    "for i, wFl in enumerate(wF_values):\n",
    "    model.par.wF = wFl\n",
    "    opt = model.solve_discrete()\n",
    "\n",
    "    #and store the results \n",
    "    log_HF_HM[i] = np.log(opt.HF/opt.HM)\n",
    "    log_WF_WM[i] = np.log(model.par.wF/model.par.wM)\n",
    "\n",
    "\n",
    "# plot the results\n",
    "plt.plot(log_HF_HM,log_WF_WM)\n",
    "\n",
    "# Set plot labels and title\n",
    "plt.xlabel('log of HM/HF')\n",
    "plt.ylabel('log of WF/WM')\n",
    "plt.title('Logarithmic plot')\n",
    "\n",
    "plt.show()\n"
   ]
  },
  {
   "attachments": {},
   "cell_type": "markdown",
   "metadata": {},
   "source": [
    "We can conclude that the sexe that has the higher relative wage will work less at home. "
   ]
  },
  {
   "cell_type": "markdown",
   "metadata": {},
   "source": [
    "# Question 3"
   ]
  },
  {
   "cell_type": "markdown",
   "metadata": {},
   "source": [
    "Explain your code and procedure"
   ]
  },
  {
   "cell_type": "code",
   "execution_count": 13,
   "metadata": {},
   "outputs": [],
   "source": [
    "model = inauguralproject.inauguralproject()\n",
    "model.solve()"
   ]
  },
  {
   "cell_type": "code",
   "execution_count": 7,
   "metadata": {},
   "outputs": [
    {
     "data": {
      "text/plain": [
       "namespace(LM_vec=array([2.86848189, 3.74727041, 4.45446876, 5.0233538 , 5.48021408]),\n",
       "          HM_vec=array([5.8861664 , 5.16526986, 4.45446876, 3.75672019, 3.08911448]),\n",
       "          LF_vec=array([5.11846867, 4.74752496, 4.45446994, 4.22141356, 4.02766993]),\n",
       "          HF_vec=array([4.09483279, 4.27284499, 4.45446994, 4.64043869, 4.83201271]),\n",
       "          beta0=nan,\n",
       "          beta1=nan)"
      ]
     },
     "execution_count": 7,
     "metadata": {},
     "output_type": "execute_result"
    }
   ],
   "source": [
    "model.sol"
   ]
  },
  {
   "cell_type": "code",
   "execution_count": 8,
   "metadata": {},
   "outputs": [],
   "source": [
    "model.run_regression()"
   ]
  },
  {
   "cell_type": "code",
   "execution_count": 9,
   "metadata": {},
   "outputs": [
    {
     "data": {
      "text/plain": [
       "namespace(LM_vec=array([2.86848189, 3.74727041, 4.45446876, 5.0233538 , 5.48021408]),\n",
       "          HM_vec=array([5.8861664 , 5.16526986, 4.45446876, 3.75672019, 3.08911448]),\n",
       "          LF_vec=array([5.11846867, 4.74752496, 4.45446994, 4.22141356, 4.02766993]),\n",
       "          HF_vec=array([4.09483279, 4.27284499, 4.45446994, 4.64043869, 4.83201271]),\n",
       "          beta0=0.04140121117758892,\n",
       "          beta1=1.9838104214071253)"
      ]
     },
     "execution_count": 9,
     "metadata": {},
     "output_type": "execute_result"
    }
   ],
   "source": [
    "model.sol"
   ]
  },
  {
   "cell_type": "code",
   "execution_count": 73,
   "metadata": {},
   "outputs": [
    {
     "name": "stdout",
     "output_type": "stream",
     "text": [
      "[4.09483293 4.27284333 4.45446996 4.64043145 4.83201102]\n",
      "[5.88616755 5.16527689 4.45446924 3.75671367 3.08911355]\n",
      "HF/HM =  [0.69567047 0.82722445 1.00000016 1.23523693 1.56420634]\n",
      "wF/wM =  [0.8 0.9 1.  1.1 1.2]\n"
     ]
    },
    {
     "data": {
      "image/png": "[encoded data removed]",
      "text/plain": [
       "<Figure size 640x480 with 1 Axes>"
      ]
     },
     "metadata": {},
     "output_type": "display_data"
    }
   ],
   "source": [
    "# calculate HF/HM and wF/wM\n",
    "HFHM = model.sol.HF_vec / model.sol.HM_vec\n",
    "wFwM = model.par.wF_vec / model.par.wM\n",
    "\n",
    "# take logarithm of both\n",
    "log_HFHM = np.log(HFHM)\n",
    "log_wFwM = np.log(wFwM)\n",
    "\n",
    "# calculate HF and HM to find the problem\n",
    "print(model.sol.HF_vec)\n",
    "print(model.sol.HM_vec)\n",
    "print(\"HF/HM = \", HFHM)\n",
    "print(\"wF/wM = \", wFwM)\n",
    "\n",
    "# plot\n",
    "plt.plot(log_wFwM, log_HFHM)\n",
    "plt.xlabel('log(wF/wM)')\n",
    "plt.ylabel('log(HF/HM)')\n",
    "plt.title('Substitution Elasticity')\n",
    "plt.show()"
   ]
  },
  {
   "attachments": {},
   "cell_type": "markdown",
   "metadata": {},
   "source": [
    "Question 4 "
   ]
  },
  {
   "cell_type": "code",
   "execution_count": 151,
   "metadata": {},
   "outputs": [
    {
     "name": "stdout",
     "output_type": "stream",
     "text": [
      "[0.8 0.9 1.  1.1 1.2]\n",
      "[0.         0.11111111 0.22222222 0.33333333 0.44444444 0.55555556\n",
      " 0.66666667 0.77777778 0.88888889 1.        ]\n",
      "[0.         0.11111111 0.22222222 0.33333333 0.44444444 0.55555556\n",
      " 0.66666667 0.77777778 0.88888889 1.        ]\n",
      "alp: (0, 0.0)\n",
      "par.alpha = 0.0\n",
      "sig: (0, 0.0)\n",
      "par.sigma = 0.0\n",
      "1.271619262339425\n",
      "solution updated\n",
      "end of loop iteration 1\n",
      "sig: (1, 0.1111111111111111)\n",
      "par.sigma = 0.1111111111111111\n",
      "1.271619262339425\n",
      "end of loop iteration 2\n",
      "sig: (2, 0.2222222222222222)\n",
      "par.sigma = 0.2222222222222222\n",
      "1.271619262339425\n",
      "end of loop iteration 3\n",
      "sig: (3, 0.3333333333333333)\n",
      "par.sigma = 0.3333333333333333\n",
      "1.271619262339425\n",
      "end of loop iteration 4\n",
      "sig: (4, 0.4444444444444444)\n",
      "par.sigma = 0.4444444444444444\n",
      "1.271619262339425\n",
      "end of loop iteration 5\n",
      "sig: (5, 0.5555555555555556)\n",
      "par.sigma = 0.5555555555555556\n",
      "1.271619262339425\n",
      "end of loop iteration 6\n",
      "sig: (6, 0.6666666666666666)\n",
      "par.sigma = 0.6666666666666666\n",
      "1.271619262339425\n",
      "end of loop iteration 7\n",
      "sig: (7, 0.7777777777777777)\n",
      "par.sigma = 0.7777777777777777\n",
      "1.271619262339425\n",
      "end of loop iteration 8\n",
      "sig: (8, 0.8888888888888888)\n",
      "par.sigma = 0.8888888888888888\n",
      "1.271619262339425\n",
      "end of loop iteration 9\n",
      "sig: (9, 1.0)\n",
      "par.sigma = 1.0\n",
      "1.271619262339425\n",
      "end of loop iteration 10\n",
      "Alpha = 0.0\n",
      "Sigma = 0.0\n",
      "Gives minimum combined  variance of 1.271619262339425\n",
      "alp: (1, 0.1111111111111111)\n",
      "par.alpha = 0.1111111111111111\n",
      "sig: (0, 0.0)\n",
      "par.sigma = 0.0\n",
      "1.271619262339425\n",
      "end of loop iteration 11\n",
      "sig: (1, 0.1111111111111111)\n",
      "par.sigma = 0.1111111111111111\n",
      "1.271619262339425\n",
      "end of loop iteration 12\n",
      "sig: (2, 0.2222222222222222)\n",
      "par.sigma = 0.2222222222222222\n",
      "1.271619262339425\n",
      "end of loop iteration 13\n",
      "sig: (3, 0.3333333333333333)\n",
      "par.sigma = 0.3333333333333333\n",
      "1.271619262339425\n",
      "end of loop iteration 14\n",
      "sig: (4, 0.4444444444444444)\n",
      "par.sigma = 0.4444444444444444\n",
      "1.271619262339425\n",
      "end of loop iteration 15\n",
      "sig: (5, 0.5555555555555556)\n",
      "par.sigma = 0.5555555555555556\n",
      "1.271619262339425\n",
      "end of loop iteration 16\n",
      "sig: (6, 0.6666666666666666)\n",
      "par.sigma = 0.6666666666666666\n",
      "1.271619262339425\n",
      "end of loop iteration 17\n",
      "sig: (7, 0.7777777777777777)\n",
      "par.sigma = 0.7777777777777777\n",
      "1.271619262339425\n",
      "end of loop iteration 18\n",
      "sig: (8, 0.8888888888888888)\n",
      "par.sigma = 0.8888888888888888\n",
      "1.271619262339425\n",
      "end of loop iteration 19\n",
      "sig: (9, 1.0)\n",
      "par.sigma = 1.0\n",
      "1.271619262339425\n",
      "end of loop iteration 20\n",
      "Alpha = 0.0\n",
      "Sigma = 0.0\n",
      "Gives minimum combined  variance of 1.271619262339425\n",
      "alp: (2, 0.2222222222222222)\n",
      "par.alpha = 0.2222222222222222\n",
      "sig: (0, 0.0)\n",
      "par.sigma = 0.0\n",
      "1.271619262339425\n",
      "end of loop iteration 21\n",
      "sig: (1, 0.1111111111111111)\n",
      "par.sigma = 0.1111111111111111\n",
      "1.271619262339425\n",
      "end of loop iteration 22\n",
      "sig: (2, 0.2222222222222222)\n",
      "par.sigma = 0.2222222222222222\n",
      "1.271619262339425\n",
      "end of loop iteration 23\n",
      "sig: (3, 0.3333333333333333)\n",
      "par.sigma = 0.3333333333333333\n",
      "1.271619262339425\n",
      "end of loop iteration 24\n",
      "sig: (4, 0.4444444444444444)\n",
      "par.sigma = 0.4444444444444444\n",
      "1.271619262339425\n",
      "end of loop iteration 25\n",
      "sig: (5, 0.5555555555555556)\n",
      "par.sigma = 0.5555555555555556\n",
      "1.271619262339425\n",
      "end of loop iteration 26\n",
      "sig: (6, 0.6666666666666666)\n",
      "par.sigma = 0.6666666666666666\n",
      "1.271619262339425\n",
      "end of loop iteration 27\n",
      "sig: (7, 0.7777777777777777)\n",
      "par.sigma = 0.7777777777777777\n",
      "1.271619262339425\n",
      "end of loop iteration 28\n",
      "sig: (8, 0.8888888888888888)\n",
      "par.sigma = 0.8888888888888888\n",
      "1.271619262339425\n",
      "end of loop iteration 29\n",
      "sig: (9, 1.0)\n",
      "par.sigma = 1.0\n",
      "1.271619262339425\n",
      "end of loop iteration 30\n",
      "Alpha = 0.0\n",
      "Sigma = 0.0\n",
      "Gives minimum combined  variance of 1.271619262339425\n",
      "alp: (3, 0.3333333333333333)\n",
      "par.alpha = 0.3333333333333333\n",
      "sig: (0, 0.0)\n",
      "par.sigma = 0.0\n",
      "1.271619262339425\n",
      "end of loop iteration 31\n",
      "sig: (1, 0.1111111111111111)\n",
      "par.sigma = 0.1111111111111111\n",
      "1.271619262339425\n",
      "end of loop iteration 32\n",
      "sig: (2, 0.2222222222222222)\n",
      "par.sigma = 0.2222222222222222\n",
      "1.271619262339425\n",
      "end of loop iteration 33\n",
      "sig: (3, 0.3333333333333333)\n",
      "par.sigma = 0.3333333333333333\n",
      "1.271619262339425\n",
      "end of loop iteration 34\n",
      "sig: (4, 0.4444444444444444)\n",
      "par.sigma = 0.4444444444444444\n",
      "1.271619262339425\n",
      "end of loop iteration 35\n",
      "sig: (5, 0.5555555555555556)\n",
      "par.sigma = 0.5555555555555556\n",
      "1.271619262339425\n",
      "end of loop iteration 36\n",
      "sig: (6, 0.6666666666666666)\n",
      "par.sigma = 0.6666666666666666\n",
      "1.271619262339425\n",
      "end of loop iteration 37\n",
      "sig: (7, 0.7777777777777777)\n",
      "par.sigma = 0.7777777777777777\n",
      "1.271619262339425\n",
      "end of loop iteration 38\n",
      "sig: (8, 0.8888888888888888)\n",
      "par.sigma = 0.8888888888888888\n",
      "1.271619262339425\n",
      "end of loop iteration 39\n",
      "sig: (9, 1.0)\n",
      "par.sigma = 1.0\n",
      "1.271619262339425\n",
      "end of loop iteration 40\n",
      "Alpha = 0.0\n",
      "Sigma = 0.0\n",
      "Gives minimum combined  variance of 1.271619262339425\n",
      "alp: (4, 0.4444444444444444)\n",
      "par.alpha = 0.4444444444444444\n",
      "sig: (0, 0.0)\n",
      "par.sigma = 0.0\n",
      "1.271619262339425\n",
      "end of loop iteration 41\n",
      "sig: (1, 0.1111111111111111)\n",
      "par.sigma = 0.1111111111111111\n",
      "1.271619262339425\n",
      "end of loop iteration 42\n",
      "sig: (2, 0.2222222222222222)\n",
      "par.sigma = 0.2222222222222222\n",
      "1.271619262339425\n",
      "end of loop iteration 43\n",
      "sig: (3, 0.3333333333333333)\n",
      "par.sigma = 0.3333333333333333\n",
      "1.271619262339425\n",
      "end of loop iteration 44\n",
      "sig: (4, 0.4444444444444444)\n",
      "par.sigma = 0.4444444444444444\n",
      "1.271619262339425\n",
      "end of loop iteration 45\n",
      "sig: (5, 0.5555555555555556)\n",
      "par.sigma = 0.5555555555555556\n",
      "1.271619262339425\n",
      "end of loop iteration 46\n",
      "sig: (6, 0.6666666666666666)\n",
      "par.sigma = 0.6666666666666666\n",
      "1.271619262339425\n",
      "end of loop iteration 47\n",
      "sig: (7, 0.7777777777777777)\n",
      "par.sigma = 0.7777777777777777\n",
      "1.271619262339425\n",
      "end of loop iteration 48\n",
      "sig: (8, 0.8888888888888888)\n",
      "par.sigma = 0.8888888888888888\n",
      "1.271619262339425\n",
      "end of loop iteration 49\n",
      "sig: (9, 1.0)\n",
      "par.sigma = 1.0\n",
      "1.271619262339425\n",
      "end of loop iteration 50\n",
      "Alpha = 0.0\n",
      "Sigma = 0.0\n",
      "Gives minimum combined  variance of 1.271619262339425\n",
      "alp: (5, 0.5555555555555556)\n",
      "par.alpha = 0.5555555555555556\n",
      "sig: (0, 0.0)\n",
      "par.sigma = 0.0\n",
      "1.271619262339425\n",
      "end of loop iteration 51\n",
      "sig: (1, 0.1111111111111111)\n",
      "par.sigma = 0.1111111111111111\n",
      "1.271619262339425\n",
      "end of loop iteration 52\n",
      "sig: (2, 0.2222222222222222)\n",
      "par.sigma = 0.2222222222222222\n",
      "1.271619262339425\n",
      "end of loop iteration 53\n",
      "sig: (3, 0.3333333333333333)\n",
      "par.sigma = 0.3333333333333333\n",
      "1.271619262339425\n",
      "end of loop iteration 54\n",
      "sig: (4, 0.4444444444444444)\n",
      "par.sigma = 0.4444444444444444\n",
      "1.271619262339425\n",
      "end of loop iteration 55\n",
      "sig: (5, 0.5555555555555556)\n",
      "par.sigma = 0.5555555555555556\n",
      "1.271619262339425\n",
      "end of loop iteration 56\n",
      "sig: (6, 0.6666666666666666)\n",
      "par.sigma = 0.6666666666666666\n",
      "1.271619262339425\n",
      "end of loop iteration 57\n",
      "sig: (7, 0.7777777777777777)\n",
      "par.sigma = 0.7777777777777777\n",
      "1.271619262339425\n",
      "end of loop iteration 58\n",
      "sig: (8, 0.8888888888888888)\n",
      "par.sigma = 0.8888888888888888\n",
      "1.271619262339425\n",
      "end of loop iteration 59\n",
      "sig: (9, 1.0)\n",
      "par.sigma = 1.0\n",
      "1.271619262339425\n",
      "end of loop iteration 60\n",
      "Alpha = 0.0\n",
      "Sigma = 0.0\n",
      "Gives minimum combined  variance of 1.271619262339425\n",
      "alp: (6, 0.6666666666666666)\n",
      "par.alpha = 0.6666666666666666\n",
      "sig: (0, 0.0)\n",
      "par.sigma = 0.0\n",
      "1.271619262339425\n",
      "end of loop iteration 61\n",
      "sig: (1, 0.1111111111111111)\n",
      "par.sigma = 0.1111111111111111\n",
      "1.271619262339425\n",
      "end of loop iteration 62\n",
      "sig: (2, 0.2222222222222222)\n",
      "par.sigma = 0.2222222222222222\n",
      "1.271619262339425\n",
      "end of loop iteration 63\n",
      "sig: (3, 0.3333333333333333)\n",
      "par.sigma = 0.3333333333333333\n",
      "1.271619262339425\n",
      "end of loop iteration 64\n",
      "sig: (4, 0.4444444444444444)\n",
      "par.sigma = 0.4444444444444444\n",
      "1.271619262339425\n",
      "end of loop iteration 65\n",
      "sig: (5, 0.5555555555555556)\n",
      "par.sigma = 0.5555555555555556\n",
      "1.271619262339425\n",
      "end of loop iteration 66\n",
      "sig: (6, 0.6666666666666666)\n",
      "par.sigma = 0.6666666666666666\n",
      "1.271619262339425\n",
      "end of loop iteration 67\n",
      "sig: (7, 0.7777777777777777)\n",
      "par.sigma = 0.7777777777777777\n",
      "1.271619262339425\n",
      "end of loop iteration 68\n",
      "sig: (8, 0.8888888888888888)\n",
      "par.sigma = 0.8888888888888888\n",
      "1.271619262339425\n",
      "end of loop iteration 69\n",
      "sig: (9, 1.0)\n",
      "par.sigma = 1.0\n",
      "1.271619262339425\n",
      "end of loop iteration 70\n",
      "Alpha = 0.0\n",
      "Sigma = 0.0\n",
      "Gives minimum combined  variance of 1.271619262339425\n",
      "alp: (7, 0.7777777777777777)\n",
      "par.alpha = 0.7777777777777777\n",
      "sig: (0, 0.0)\n",
      "par.sigma = 0.0\n",
      "1.271619262339425\n",
      "end of loop iteration 71\n",
      "sig: (1, 0.1111111111111111)\n",
      "par.sigma = 0.1111111111111111\n",
      "1.271619262339425\n",
      "end of loop iteration 72\n",
      "sig: (2, 0.2222222222222222)\n",
      "par.sigma = 0.2222222222222222\n",
      "1.271619262339425\n",
      "end of loop iteration 73\n",
      "sig: (3, 0.3333333333333333)\n",
      "par.sigma = 0.3333333333333333\n",
      "1.271619262339425\n",
      "end of loop iteration 74\n",
      "sig: (4, 0.4444444444444444)\n",
      "par.sigma = 0.4444444444444444\n",
      "1.271619262339425\n",
      "end of loop iteration 75\n",
      "sig: (5, 0.5555555555555556)\n",
      "par.sigma = 0.5555555555555556\n",
      "1.271619262339425\n",
      "end of loop iteration 76\n",
      "sig: (6, 0.6666666666666666)\n",
      "par.sigma = 0.6666666666666666\n",
      "1.271619262339425\n",
      "end of loop iteration 77\n",
      "sig: (7, 0.7777777777777777)\n",
      "par.sigma = 0.7777777777777777\n",
      "1.271619262339425\n",
      "end of loop iteration 78\n",
      "sig: (8, 0.8888888888888888)\n",
      "par.sigma = 0.8888888888888888\n",
      "1.271619262339425\n",
      "end of loop iteration 79\n",
      "sig: (9, 1.0)\n",
      "par.sigma = 1.0\n",
      "1.271619262339425\n",
      "end of loop iteration 80\n",
      "Alpha = 0.0\n",
      "Sigma = 0.0\n",
      "Gives minimum combined  variance of 1.271619262339425\n",
      "alp: (8, 0.8888888888888888)\n",
      "par.alpha = 0.8888888888888888\n",
      "sig: (0, 0.0)\n",
      "par.sigma = 0.0\n",
      "1.271619262339425\n",
      "end of loop iteration 81\n",
      "sig: (1, 0.1111111111111111)\n",
      "par.sigma = 0.1111111111111111\n",
      "1.271619262339425\n",
      "end of loop iteration 82\n",
      "sig: (2, 0.2222222222222222)\n",
      "par.sigma = 0.2222222222222222\n",
      "1.271619262339425\n",
      "end of loop iteration 83\n",
      "sig: (3, 0.3333333333333333)\n",
      "par.sigma = 0.3333333333333333\n",
      "1.271619262339425\n",
      "end of loop iteration 84\n",
      "sig: (4, 0.4444444444444444)\n",
      "par.sigma = 0.4444444444444444\n",
      "1.271619262339425\n",
      "end of loop iteration 85\n",
      "sig: (5, 0.5555555555555556)\n",
      "par.sigma = 0.5555555555555556\n",
      "1.271619262339425\n",
      "end of loop iteration 86\n",
      "sig: (6, 0.6666666666666666)\n",
      "par.sigma = 0.6666666666666666\n",
      "1.271619262339425\n",
      "end of loop iteration 87\n",
      "sig: (7, 0.7777777777777777)\n",
      "par.sigma = 0.7777777777777777\n",
      "1.271619262339425\n",
      "end of loop iteration 88\n",
      "sig: (8, 0.8888888888888888)\n",
      "par.sigma = 0.8888888888888888\n",
      "1.271619262339425\n",
      "end of loop iteration 89\n",
      "sig: (9, 1.0)\n",
      "par.sigma = 1.0\n",
      "1.271619262339425\n",
      "end of loop iteration 90\n",
      "Alpha = 0.0\n",
      "Sigma = 0.0\n",
      "Gives minimum combined  variance of 1.271619262339425\n",
      "alp: (9, 1.0)\n",
      "par.alpha = 1.0\n",
      "sig: (0, 0.0)\n",
      "par.sigma = 0.0\n",
      "1.271619262339425\n",
      "end of loop iteration 91\n",
      "sig: (1, 0.1111111111111111)\n",
      "par.sigma = 0.1111111111111111\n",
      "1.271619262339425\n",
      "end of loop iteration 92\n",
      "sig: (2, 0.2222222222222222)\n",
      "par.sigma = 0.2222222222222222\n",
      "1.271619262339425\n",
      "end of loop iteration 93\n",
      "sig: (3, 0.3333333333333333)\n",
      "par.sigma = 0.3333333333333333\n",
      "1.271619262339425\n",
      "end of loop iteration 94\n",
      "sig: (4, 0.4444444444444444)\n",
      "par.sigma = 0.4444444444444444\n",
      "1.271619262339425\n",
      "end of loop iteration 95\n",
      "sig: (5, 0.5555555555555556)\n",
      "par.sigma = 0.5555555555555556\n",
      "1.271619262339425\n",
      "end of loop iteration 96\n",
      "sig: (6, 0.6666666666666666)\n",
      "par.sigma = 0.6666666666666666\n",
      "1.271619262339425\n",
      "end of loop iteration 97\n",
      "sig: (7, 0.7777777777777777)\n",
      "par.sigma = 0.7777777777777777\n",
      "1.271619262339425\n",
      "end of loop iteration 98\n",
      "sig: (8, 0.8888888888888888)\n",
      "par.sigma = 0.8888888888888888\n",
      "1.271619262339425\n",
      "end of loop iteration 99\n",
      "sig: (9, 1.0)\n",
      "par.sigma = 1.0\n",
      "1.271619262339425\n",
      "end of loop iteration 100\n",
      "Alpha = 0.0\n",
      "Sigma = 0.0\n",
      "Gives minimum combined  variance of 1.271619262339425\n",
      "Alpha of 0.0 and sigma of 0.0\n"
     ]
    }
   ],
   "source": [
    "print(model.par.wF_vec)\n",
    "\n",
    "a_vec = np.linspace(0,1,10)\n",
    "print(a_vec)\n",
    "s_vec = np.linspace(0,1,10)\n",
    "print(s_vec)\n",
    "\n",
    "\n",
    "estimates = model.estimate(a_vec,s_vec)\n",
    "a , s , var = estimates\n",
    "print (\"Alpha of \"+ str(a)+\" and sigma of \"+ str(s)+ \" minimizes the total variance to \"+ str(var))"
   ]
  },
  {
   "cell_type": "code",
   "execution_count": 12,
   "metadata": {},
   "outputs": [
    {
     "ename": "TypeError",
     "evalue": "'numpy.float64' object cannot be interpreted as an integer",
     "output_type": "error",
     "traceback": [
      "\u001b[1;31m---------------------------------------------------------------------------\u001b[0m",
      "\u001b[1;31mTypeError\u001b[0m                                 Traceback (most recent call last)",
      "\u001b[1;32m~\\AppData\\Local\\Temp\\ipykernel_26360\\3008174883.py\u001b[0m in \u001b[0;36m<module>\u001b[1;34m\u001b[0m\n\u001b[0;32m      9\u001b[0m         \u001b[0mmodel\u001b[0m\u001b[1;33m.\u001b[0m\u001b[0mpar\u001b[0m\u001b[1;33m.\u001b[0m\u001b[0malpha\u001b[0m \u001b[1;33m=\u001b[0m \u001b[0malpha_array\u001b[0m\u001b[1;33m[\u001b[0m\u001b[0mi\u001b[0m\u001b[1;33m]\u001b[0m\u001b[1;33m\u001b[0m\u001b[1;33m\u001b[0m\u001b[0m\n\u001b[0;32m     10\u001b[0m         \u001b[0mmodel\u001b[0m\u001b[1;33m.\u001b[0m\u001b[0mpar\u001b[0m\u001b[1;33m.\u001b[0m\u001b[0msigma\u001b[0m \u001b[1;33m=\u001b[0m \u001b[0msigma_array\u001b[0m\u001b[1;33m[\u001b[0m\u001b[0mj\u001b[0m\u001b[1;33m]\u001b[0m\u001b[1;33m\u001b[0m\u001b[1;33m\u001b[0m\u001b[0m\n\u001b[1;32m---> 11\u001b[1;33m         \u001b[0mmodel\u001b[0m\u001b[1;33m.\u001b[0m\u001b[0msolve\u001b[0m\u001b[1;33m(\u001b[0m\u001b[1;33m)\u001b[0m\u001b[1;33m\u001b[0m\u001b[1;33m\u001b[0m\u001b[0m\n\u001b[0m\u001b[0;32m     12\u001b[0m         \u001b[0mvar\u001b[0m \u001b[1;33m=\u001b[0m \u001b[0mmodel\u001b[0m\u001b[1;33m.\u001b[0m\u001b[0mvar_calc\u001b[0m\u001b[1;33m(\u001b[0m\u001b[0mmodel\u001b[0m\u001b[1;33m.\u001b[0m\u001b[0msol\u001b[0m\u001b[1;33m.\u001b[0m\u001b[0mbeta0\u001b[0m\u001b[1;33m,\u001b[0m\u001b[0mmodel\u001b[0m\u001b[1;33m.\u001b[0m\u001b[0msol\u001b[0m\u001b[1;33m.\u001b[0m\u001b[0mbeta1\u001b[0m\u001b[1;33m)\u001b[0m\u001b[1;33m\u001b[0m\u001b[1;33m\u001b[0m\u001b[0m\n\u001b[0;32m     13\u001b[0m \u001b[1;33m\u001b[0m\u001b[0m\n",
      "\u001b[1;32mc:\\Users\\lovto\\Desktop\\UiB\\Intro to programming & numerical analysis\\Git folders\\Inaugural-project\\projects-2023-newteam-1\\inauguralproject\\inauguralproject.py\u001b[0m in \u001b[0;36msolve\u001b[1;34m(self, do_print)\u001b[0m\n\u001b[0;32m    126\u001b[0m         \u001b[1;32mfor\u001b[0m \u001b[0mi\u001b[0m \u001b[1;32min\u001b[0m \u001b[0mrange\u001b[0m\u001b[1;33m(\u001b[0m\u001b[0mpar\u001b[0m\u001b[1;33m.\u001b[0m\u001b[0mwF_vec\u001b[0m\u001b[1;33m.\u001b[0m\u001b[0msize\u001b[0m\u001b[1;33m)\u001b[0m\u001b[1;33m:\u001b[0m\u001b[1;33m\u001b[0m\u001b[1;33m\u001b[0m\u001b[0m\n\u001b[0;32m    127\u001b[0m             \u001b[0mpar\u001b[0m\u001b[1;33m.\u001b[0m\u001b[0mwF\u001b[0m \u001b[1;33m=\u001b[0m \u001b[0mpar\u001b[0m\u001b[1;33m.\u001b[0m\u001b[0mwF_vec\u001b[0m\u001b[1;33m[\u001b[0m\u001b[0mi\u001b[0m\u001b[1;33m]\u001b[0m\u001b[1;33m\u001b[0m\u001b[1;33m\u001b[0m\u001b[0m\n\u001b[1;32m--> 128\u001b[1;33m             \u001b[0mresult\u001b[0m \u001b[1;33m=\u001b[0m \u001b[0moptimize\u001b[0m\u001b[1;33m.\u001b[0m\u001b[0mminimize\u001b[0m\u001b[1;33m(\u001b[0m\u001b[0mobj\u001b[0m\u001b[1;33m,\u001b[0m \u001b[0mx0\u001b[0m \u001b[1;33m=\u001b[0m \u001b[1;33m[\u001b[0m\u001b[1;36m12\u001b[0m\u001b[1;33m]\u001b[0m\u001b[1;33m*\u001b[0m\u001b[1;36m4\u001b[0m\u001b[1;33m,\u001b[0m \u001b[0mbounds\u001b[0m \u001b[1;33m=\u001b[0m \u001b[1;33m[\u001b[0m\u001b[1;33m(\u001b[0m\u001b[1;36m0\u001b[0m\u001b[1;33m,\u001b[0m\u001b[1;36m24\u001b[0m\u001b[1;33m)\u001b[0m\u001b[1;33m]\u001b[0m\u001b[1;33m*\u001b[0m\u001b[1;36m4\u001b[0m\u001b[1;33m)\u001b[0m\u001b[1;33m\u001b[0m\u001b[1;33m\u001b[0m\u001b[0m\n\u001b[0m\u001b[0;32m    129\u001b[0m             \u001b[0msol\u001b[0m\u001b[1;33m.\u001b[0m\u001b[0mHM_vec\u001b[0m\u001b[1;33m[\u001b[0m\u001b[0mi\u001b[0m\u001b[1;33m]\u001b[0m \u001b[1;33m=\u001b[0m \u001b[0mresult\u001b[0m\u001b[1;33m.\u001b[0m\u001b[0mx\u001b[0m\u001b[1;33m[\u001b[0m\u001b[1;36m0\u001b[0m\u001b[1;33m]\u001b[0m\u001b[1;33m\u001b[0m\u001b[1;33m\u001b[0m\u001b[0m\n\u001b[0;32m    130\u001b[0m             \u001b[0msol\u001b[0m\u001b[1;33m.\u001b[0m\u001b[0mHF_vec\u001b[0m\u001b[1;33m[\u001b[0m\u001b[0mi\u001b[0m\u001b[1;33m]\u001b[0m \u001b[1;33m=\u001b[0m \u001b[0mresult\u001b[0m\u001b[1;33m.\u001b[0m\u001b[0mx\u001b[0m\u001b[1;33m[\u001b[0m\u001b[1;36m1\u001b[0m\u001b[1;33m]\u001b[0m\u001b[1;33m\u001b[0m\u001b[1;33m\u001b[0m\u001b[0m\n",
      "\u001b[1;32mc:\\Users\\lovto\\anaconda3\\lib\\site-packages\\scipy\\optimize\\_minimize.py\u001b[0m in \u001b[0;36mminimize\u001b[1;34m(fun, x0, args, method, jac, hess, hessp, bounds, constraints, tol, callback, options)\u001b[0m\n\u001b[0;32m    697\u001b[0m                                  **options)\n\u001b[0;32m    698\u001b[0m     \u001b[1;32melif\u001b[0m \u001b[0mmeth\u001b[0m \u001b[1;33m==\u001b[0m \u001b[1;34m'l-bfgs-b'\u001b[0m\u001b[1;33m:\u001b[0m\u001b[1;33m\u001b[0m\u001b[1;33m\u001b[0m\u001b[0m\n\u001b[1;32m--> 699\u001b[1;33m         res = _minimize_lbfgsb(fun, x0, args, jac, bounds,\n\u001b[0m\u001b[0;32m    700\u001b[0m                                callback=callback, **options)\n\u001b[0;32m    701\u001b[0m     \u001b[1;32melif\u001b[0m \u001b[0mmeth\u001b[0m \u001b[1;33m==\u001b[0m \u001b[1;34m'tnc'\u001b[0m\u001b[1;33m:\u001b[0m\u001b[1;33m\u001b[0m\u001b[1;33m\u001b[0m\u001b[0m\n",
      "\u001b[1;32mc:\\Users\\lovto\\anaconda3\\lib\\site-packages\\scipy\\optimize\\_lbfgsb_py.py\u001b[0m in \u001b[0;36m_minimize_lbfgsb\u001b[1;34m(fun, x0, args, jac, bounds, disp, maxcor, ftol, gtol, eps, maxfun, maxiter, iprint, callback, maxls, finite_diff_rel_step, **unknown_options)\u001b[0m\n\u001b[0;32m    304\u001b[0m             \u001b[0miprint\u001b[0m \u001b[1;33m=\u001b[0m \u001b[0mdisp\u001b[0m\u001b[1;33m\u001b[0m\u001b[1;33m\u001b[0m\u001b[0m\n\u001b[0;32m    305\u001b[0m \u001b[1;33m\u001b[0m\u001b[0m\n\u001b[1;32m--> 306\u001b[1;33m     sf = _prepare_scalar_function(fun, x0, jac=jac, args=args, epsilon=eps,\n\u001b[0m\u001b[0;32m    307\u001b[0m                                   \u001b[0mbounds\u001b[0m\u001b[1;33m=\u001b[0m\u001b[0mnew_bounds\u001b[0m\u001b[1;33m,\u001b[0m\u001b[1;33m\u001b[0m\u001b[1;33m\u001b[0m\u001b[0m\n\u001b[0;32m    308\u001b[0m                                   finite_diff_rel_step=finite_diff_rel_step)\n",
      "\u001b[1;32mc:\\Users\\lovto\\anaconda3\\lib\\site-packages\\scipy\\optimize\\_optimize.py\u001b[0m in \u001b[0;36m_prepare_scalar_function\u001b[1;34m(fun, x0, jac, args, bounds, epsilon, finite_diff_rel_step, hess)\u001b[0m\n\u001b[0;32m    261\u001b[0m     \u001b[1;31m# ScalarFunction caches. Reuse of fun(x) during grad\u001b[0m\u001b[1;33m\u001b[0m\u001b[1;33m\u001b[0m\u001b[0m\n\u001b[0;32m    262\u001b[0m     \u001b[1;31m# calculation reduces overall function evaluations.\u001b[0m\u001b[1;33m\u001b[0m\u001b[1;33m\u001b[0m\u001b[0m\n\u001b[1;32m--> 263\u001b[1;33m     sf = ScalarFunction(fun, x0, args, grad, hess,\n\u001b[0m\u001b[0;32m    264\u001b[0m                         finite_diff_rel_step, bounds, epsilon=epsilon)\n\u001b[0;32m    265\u001b[0m \u001b[1;33m\u001b[0m\u001b[0m\n",
      "\u001b[1;32mc:\\Users\\lovto\\anaconda3\\lib\\site-packages\\scipy\\optimize\\_differentiable_functions.py\u001b[0m in \u001b[0;36m__init__\u001b[1;34m(self, fun, x0, args, grad, hess, finite_diff_rel_step, finite_diff_bounds, epsilon)\u001b[0m\n\u001b[0;32m    156\u001b[0m \u001b[1;33m\u001b[0m\u001b[0m\n\u001b[0;32m    157\u001b[0m         \u001b[0mself\u001b[0m\u001b[1;33m.\u001b[0m\u001b[0m_update_fun_impl\u001b[0m \u001b[1;33m=\u001b[0m \u001b[0mupdate_fun\u001b[0m\u001b[1;33m\u001b[0m\u001b[1;33m\u001b[0m\u001b[0m\n\u001b[1;32m--> 158\u001b[1;33m         \u001b[0mself\u001b[0m\u001b[1;33m.\u001b[0m\u001b[0m_update_fun\u001b[0m\u001b[1;33m(\u001b[0m\u001b[1;33m)\u001b[0m\u001b[1;33m\u001b[0m\u001b[1;33m\u001b[0m\u001b[0m\n\u001b[0m\u001b[0;32m    159\u001b[0m \u001b[1;33m\u001b[0m\u001b[0m\n\u001b[0;32m    160\u001b[0m         \u001b[1;31m# Gradient evaluation\u001b[0m\u001b[1;33m\u001b[0m\u001b[1;33m\u001b[0m\u001b[0m\n",
      "\u001b[1;32mc:\\Users\\lovto\\anaconda3\\lib\\site-packages\\scipy\\optimize\\_differentiable_functions.py\u001b[0m in \u001b[0;36m_update_fun\u001b[1;34m(self)\u001b[0m\n\u001b[0;32m    249\u001b[0m     \u001b[1;32mdef\u001b[0m \u001b[0m_update_fun\u001b[0m\u001b[1;33m(\u001b[0m\u001b[0mself\u001b[0m\u001b[1;33m)\u001b[0m\u001b[1;33m:\u001b[0m\u001b[1;33m\u001b[0m\u001b[1;33m\u001b[0m\u001b[0m\n\u001b[0;32m    250\u001b[0m         \u001b[1;32mif\u001b[0m \u001b[1;32mnot\u001b[0m \u001b[0mself\u001b[0m\u001b[1;33m.\u001b[0m\u001b[0mf_updated\u001b[0m\u001b[1;33m:\u001b[0m\u001b[1;33m\u001b[0m\u001b[1;33m\u001b[0m\u001b[0m\n\u001b[1;32m--> 251\u001b[1;33m             \u001b[0mself\u001b[0m\u001b[1;33m.\u001b[0m\u001b[0m_update_fun_impl\u001b[0m\u001b[1;33m(\u001b[0m\u001b[1;33m)\u001b[0m\u001b[1;33m\u001b[0m\u001b[1;33m\u001b[0m\u001b[0m\n\u001b[0m\u001b[0;32m    252\u001b[0m             \u001b[0mself\u001b[0m\u001b[1;33m.\u001b[0m\u001b[0mf_updated\u001b[0m \u001b[1;33m=\u001b[0m \u001b[1;32mTrue\u001b[0m\u001b[1;33m\u001b[0m\u001b[1;33m\u001b[0m\u001b[0m\n\u001b[0;32m    253\u001b[0m \u001b[1;33m\u001b[0m\u001b[0m\n",
      "\u001b[1;32mc:\\Users\\lovto\\anaconda3\\lib\\site-packages\\scipy\\optimize\\_differentiable_functions.py\u001b[0m in \u001b[0;36mupdate_fun\u001b[1;34m()\u001b[0m\n\u001b[0;32m    153\u001b[0m \u001b[1;33m\u001b[0m\u001b[0m\n\u001b[0;32m    154\u001b[0m         \u001b[1;32mdef\u001b[0m \u001b[0mupdate_fun\u001b[0m\u001b[1;33m(\u001b[0m\u001b[1;33m)\u001b[0m\u001b[1;33m:\u001b[0m\u001b[1;33m\u001b[0m\u001b[1;33m\u001b[0m\u001b[0m\n\u001b[1;32m--> 155\u001b[1;33m             \u001b[0mself\u001b[0m\u001b[1;33m.\u001b[0m\u001b[0mf\u001b[0m \u001b[1;33m=\u001b[0m \u001b[0mfun_wrapped\u001b[0m\u001b[1;33m(\u001b[0m\u001b[0mself\u001b[0m\u001b[1;33m.\u001b[0m\u001b[0mx\u001b[0m\u001b[1;33m)\u001b[0m\u001b[1;33m\u001b[0m\u001b[1;33m\u001b[0m\u001b[0m\n\u001b[0m\u001b[0;32m    156\u001b[0m \u001b[1;33m\u001b[0m\u001b[0m\n\u001b[0;32m    157\u001b[0m         \u001b[0mself\u001b[0m\u001b[1;33m.\u001b[0m\u001b[0m_update_fun_impl\u001b[0m \u001b[1;33m=\u001b[0m \u001b[0mupdate_fun\u001b[0m\u001b[1;33m\u001b[0m\u001b[1;33m\u001b[0m\u001b[0m\n",
      "\u001b[1;32mc:\\Users\\lovto\\anaconda3\\lib\\site-packages\\scipy\\optimize\\_differentiable_functions.py\u001b[0m in \u001b[0;36mfun_wrapped\u001b[1;34m(x)\u001b[0m\n\u001b[0;32m    135\u001b[0m             \u001b[1;31m# Overwriting results in undefined behaviour because\u001b[0m\u001b[1;33m\u001b[0m\u001b[1;33m\u001b[0m\u001b[0m\n\u001b[0;32m    136\u001b[0m             \u001b[1;31m# fun(self.x) will change self.x, with the two no longer linked.\u001b[0m\u001b[1;33m\u001b[0m\u001b[1;33m\u001b[0m\u001b[0m\n\u001b[1;32m--> 137\u001b[1;33m             \u001b[0mfx\u001b[0m \u001b[1;33m=\u001b[0m \u001b[0mfun\u001b[0m\u001b[1;33m(\u001b[0m\u001b[0mnp\u001b[0m\u001b[1;33m.\u001b[0m\u001b[0mcopy\u001b[0m\u001b[1;33m(\u001b[0m\u001b[0mx\u001b[0m\u001b[1;33m)\u001b[0m\u001b[1;33m,\u001b[0m \u001b[1;33m*\u001b[0m\u001b[0margs\u001b[0m\u001b[1;33m)\u001b[0m\u001b[1;33m\u001b[0m\u001b[1;33m\u001b[0m\u001b[0m\n\u001b[0m\u001b[0;32m    138\u001b[0m             \u001b[1;31m# Make sure the function returns a true scalar\u001b[0m\u001b[1;33m\u001b[0m\u001b[1;33m\u001b[0m\u001b[0m\n\u001b[0;32m    139\u001b[0m             \u001b[1;32mif\u001b[0m \u001b[1;32mnot\u001b[0m \u001b[0mnp\u001b[0m\u001b[1;33m.\u001b[0m\u001b[0misscalar\u001b[0m\u001b[1;33m(\u001b[0m\u001b[0mfx\u001b[0m\u001b[1;33m)\u001b[0m\u001b[1;33m:\u001b[0m\u001b[1;33m\u001b[0m\u001b[1;33m\u001b[0m\u001b[0m\n",
      "\u001b[1;32mc:\\Users\\lovto\\Desktop\\UiB\\Intro to programming & numerical analysis\\Git folders\\Inaugural-project\\projects-2023-newteam-1\\inauguralproject\\inauguralproject.py\u001b[0m in \u001b[0;36mobj\u001b[1;34m(x)\u001b[0m\n\u001b[0;32m    120\u001b[0m         \u001b[1;31m# a. set up objective function\u001b[0m\u001b[1;33m\u001b[0m\u001b[1;33m\u001b[0m\u001b[0m\n\u001b[0;32m    121\u001b[0m         \u001b[1;32mdef\u001b[0m \u001b[0mobj\u001b[0m\u001b[1;33m(\u001b[0m\u001b[0mx\u001b[0m\u001b[1;33m)\u001b[0m\u001b[1;33m:\u001b[0m\u001b[1;33m\u001b[0m\u001b[1;33m\u001b[0m\u001b[0m\n\u001b[1;32m--> 122\u001b[1;33m             \u001b[0mopt\u001b[0m \u001b[1;33m=\u001b[0m \u001b[0mself\u001b[0m\u001b[1;33m.\u001b[0m\u001b[0mcalc_utility\u001b[0m\u001b[1;33m(\u001b[0m\u001b[0mx\u001b[0m\u001b[1;33m[\u001b[0m\u001b[1;36m0\u001b[0m\u001b[1;33m]\u001b[0m\u001b[1;33m,\u001b[0m \u001b[0mx\u001b[0m\u001b[1;33m[\u001b[0m\u001b[1;36m1\u001b[0m\u001b[1;33m]\u001b[0m\u001b[1;33m,\u001b[0m \u001b[0mx\u001b[0m\u001b[1;33m[\u001b[0m\u001b[1;36m2\u001b[0m\u001b[1;33m]\u001b[0m\u001b[1;33m,\u001b[0m \u001b[0mx\u001b[0m\u001b[1;33m[\u001b[0m\u001b[1;36m3\u001b[0m\u001b[1;33m]\u001b[0m\u001b[1;33m)\u001b[0m\u001b[1;33m\u001b[0m\u001b[1;33m\u001b[0m\u001b[0m\n\u001b[0m\u001b[0;32m    123\u001b[0m             \u001b[1;32mreturn\u001b[0m \u001b[1;33m-\u001b[0m \u001b[0mopt\u001b[0m\u001b[1;33m\u001b[0m\u001b[1;33m\u001b[0m\u001b[0m\n\u001b[0;32m    124\u001b[0m \u001b[1;33m\u001b[0m\u001b[0m\n",
      "\u001b[1;32mc:\\Users\\lovto\\Desktop\\UiB\\Intro to programming & numerical analysis\\Git folders\\Inaugural-project\\projects-2023-newteam-1\\inauguralproject\\inauguralproject.py\u001b[0m in \u001b[0;36mcalc_utility\u001b[1;34m(self, LM, HM, LF, HF)\u001b[0m\n\u001b[0;32m     57\u001b[0m             \u001b[0mH\u001b[0m \u001b[1;33m=\u001b[0m \u001b[0mHM\u001b[0m\u001b[1;33m**\u001b[0m\u001b[1;33m(\u001b[0m\u001b[1;36m1\u001b[0m\u001b[1;33m-\u001b[0m\u001b[0mpar\u001b[0m\u001b[1;33m.\u001b[0m\u001b[0malpha\u001b[0m\u001b[1;33m)\u001b[0m\u001b[1;33m*\u001b[0m\u001b[0mHF\u001b[0m\u001b[1;33m**\u001b[0m\u001b[0mpar\u001b[0m\u001b[1;33m.\u001b[0m\u001b[0malpha\u001b[0m\u001b[1;33m\u001b[0m\u001b[1;33m\u001b[0m\u001b[0m\n\u001b[0;32m     58\u001b[0m         \u001b[1;32melif\u001b[0m \u001b[0mpar\u001b[0m\u001b[1;33m.\u001b[0m\u001b[0msigma\u001b[0m \u001b[1;33m==\u001b[0m \u001b[1;36m0\u001b[0m\u001b[1;33m:\u001b[0m\u001b[1;33m\u001b[0m\u001b[1;33m\u001b[0m\u001b[0m\n\u001b[1;32m---> 59\u001b[1;33m             \u001b[0mH\u001b[0m \u001b[1;33m=\u001b[0m \u001b[0mnp\u001b[0m\u001b[1;33m.\u001b[0m\u001b[0mmin\u001b[0m \u001b[1;33m(\u001b[0m\u001b[0mHM\u001b[0m\u001b[1;33m,\u001b[0m \u001b[0mHF\u001b[0m\u001b[1;33m)\u001b[0m\u001b[1;33m\u001b[0m\u001b[1;33m\u001b[0m\u001b[0m\n\u001b[0m\u001b[0;32m     60\u001b[0m         \u001b[1;32melse\u001b[0m\u001b[1;33m:\u001b[0m\u001b[1;33m\u001b[0m\u001b[1;33m\u001b[0m\u001b[0m\n\u001b[0;32m     61\u001b[0m             \u001b[0mH\u001b[0m \u001b[1;33m=\u001b[0m \u001b[1;33m(\u001b[0m\u001b[1;33m(\u001b[0m\u001b[1;36m1\u001b[0m\u001b[1;33m-\u001b[0m \u001b[0mpar\u001b[0m\u001b[1;33m.\u001b[0m\u001b[0malpha\u001b[0m\u001b[1;33m)\u001b[0m\u001b[1;33m*\u001b[0m\u001b[0mHM\u001b[0m\u001b[1;33m**\u001b[0m\u001b[1;33m(\u001b[0m\u001b[1;33m(\u001b[0m\u001b[0mpar\u001b[0m\u001b[1;33m.\u001b[0m\u001b[0msigma\u001b[0m \u001b[1;33m-\u001b[0m\u001b[1;36m1\u001b[0m\u001b[1;33m)\u001b[0m\u001b[1;33m/\u001b[0m\u001b[0mpar\u001b[0m\u001b[1;33m.\u001b[0m\u001b[0msigma\u001b[0m\u001b[1;33m)\u001b[0m\u001b[1;33m+\u001b[0m \u001b[0mpar\u001b[0m\u001b[1;33m.\u001b[0m\u001b[0malpha\u001b[0m\u001b[1;33m*\u001b[0m\u001b[0mHF\u001b[0m\u001b[1;33m**\u001b[0m\u001b[1;33m(\u001b[0m\u001b[1;33m(\u001b[0m\u001b[0mpar\u001b[0m\u001b[1;33m.\u001b[0m\u001b[0msigma\u001b[0m \u001b[1;33m-\u001b[0m\u001b[1;36m1\u001b[0m\u001b[1;33m)\u001b[0m\u001b[1;33m/\u001b[0m\u001b[0mpar\u001b[0m\u001b[1;33m.\u001b[0m\u001b[0msigma\u001b[0m\u001b[1;33m)\u001b[0m\u001b[1;33m)\u001b[0m\u001b[1;33m**\u001b[0m\u001b[1;33m(\u001b[0m\u001b[0mpar\u001b[0m\u001b[1;33m.\u001b[0m\u001b[0msigma\u001b[0m\u001b[1;33m/\u001b[0m\u001b[1;33m(\u001b[0m\u001b[0mpar\u001b[0m\u001b[1;33m.\u001b[0m\u001b[0msigma\u001b[0m \u001b[1;33m-\u001b[0m \u001b[1;36m1\u001b[0m\u001b[1;33m)\u001b[0m\u001b[1;33m)\u001b[0m\u001b[1;33m\u001b[0m\u001b[1;33m\u001b[0m\u001b[0m\n",
      "\u001b[1;32mc:\\Users\\lovto\\anaconda3\\lib\\site-packages\\numpy\\core\\overrides.py\u001b[0m in \u001b[0;36mamin\u001b[1;34m(*args, **kwargs)\u001b[0m\n",
      "\u001b[1;32mc:\\Users\\lovto\\anaconda3\\lib\\site-packages\\numpy\\core\\fromnumeric.py\u001b[0m in \u001b[0;36mamin\u001b[1;34m(a, axis, out, keepdims, initial, where)\u001b[0m\n\u001b[0;32m   2916\u001b[0m     \u001b[1;36m6\u001b[0m\u001b[1;33m\u001b[0m\u001b[1;33m\u001b[0m\u001b[0m\n\u001b[0;32m   2917\u001b[0m     \"\"\"\n\u001b[1;32m-> 2918\u001b[1;33m     return _wrapreduction(a, np.minimum, 'min', axis, None, out,\n\u001b[0m\u001b[0;32m   2919\u001b[0m                           keepdims=keepdims, initial=initial, where=where)\n\u001b[0;32m   2920\u001b[0m \u001b[1;33m\u001b[0m\u001b[0m\n",
      "\u001b[1;32mc:\\Users\\lovto\\anaconda3\\lib\\site-packages\\numpy\\core\\fromnumeric.py\u001b[0m in \u001b[0;36m_wrapreduction\u001b[1;34m(obj, ufunc, method, axis, dtype, out, **kwargs)\u001b[0m\n\u001b[0;32m     82\u001b[0m                 \u001b[1;32mreturn\u001b[0m \u001b[0mreduction\u001b[0m\u001b[1;33m(\u001b[0m\u001b[0maxis\u001b[0m\u001b[1;33m=\u001b[0m\u001b[0maxis\u001b[0m\u001b[1;33m,\u001b[0m \u001b[0mdtype\u001b[0m\u001b[1;33m=\u001b[0m\u001b[0mdtype\u001b[0m\u001b[1;33m,\u001b[0m \u001b[0mout\u001b[0m\u001b[1;33m=\u001b[0m\u001b[0mout\u001b[0m\u001b[1;33m,\u001b[0m \u001b[1;33m**\u001b[0m\u001b[0mpasskwargs\u001b[0m\u001b[1;33m)\u001b[0m\u001b[1;33m\u001b[0m\u001b[1;33m\u001b[0m\u001b[0m\n\u001b[0;32m     83\u001b[0m             \u001b[1;32melse\u001b[0m\u001b[1;33m:\u001b[0m\u001b[1;33m\u001b[0m\u001b[1;33m\u001b[0m\u001b[0m\n\u001b[1;32m---> 84\u001b[1;33m                 \u001b[1;32mreturn\u001b[0m \u001b[0mreduction\u001b[0m\u001b[1;33m(\u001b[0m\u001b[0maxis\u001b[0m\u001b[1;33m=\u001b[0m\u001b[0maxis\u001b[0m\u001b[1;33m,\u001b[0m \u001b[0mout\u001b[0m\u001b[1;33m=\u001b[0m\u001b[0mout\u001b[0m\u001b[1;33m,\u001b[0m \u001b[1;33m**\u001b[0m\u001b[0mpasskwargs\u001b[0m\u001b[1;33m)\u001b[0m\u001b[1;33m\u001b[0m\u001b[1;33m\u001b[0m\u001b[0m\n\u001b[0m\u001b[0;32m     85\u001b[0m \u001b[1;33m\u001b[0m\u001b[0m\n\u001b[0;32m     86\u001b[0m     \u001b[1;32mreturn\u001b[0m \u001b[0mufunc\u001b[0m\u001b[1;33m.\u001b[0m\u001b[0mreduce\u001b[0m\u001b[1;33m(\u001b[0m\u001b[0mobj\u001b[0m\u001b[1;33m,\u001b[0m \u001b[0maxis\u001b[0m\u001b[1;33m,\u001b[0m \u001b[0mdtype\u001b[0m\u001b[1;33m,\u001b[0m \u001b[0mout\u001b[0m\u001b[1;33m,\u001b[0m \u001b[1;33m**\u001b[0m\u001b[0mpasskwargs\u001b[0m\u001b[1;33m)\u001b[0m\u001b[1;33m\u001b[0m\u001b[1;33m\u001b[0m\u001b[0m\n",
      "\u001b[1;32mc:\\Users\\lovto\\anaconda3\\lib\\site-packages\\numpy\\core\\_methods.py\u001b[0m in \u001b[0;36m_amin\u001b[1;34m(a, axis, out, keepdims, initial, where)\u001b[0m\n\u001b[0;32m     42\u001b[0m def _amin(a, axis=None, out=None, keepdims=False,\n\u001b[0;32m     43\u001b[0m           initial=_NoValue, where=True):\n\u001b[1;32m---> 44\u001b[1;33m     \u001b[1;32mreturn\u001b[0m \u001b[0mumr_minimum\u001b[0m\u001b[1;33m(\u001b[0m\u001b[0ma\u001b[0m\u001b[1;33m,\u001b[0m \u001b[0maxis\u001b[0m\u001b[1;33m,\u001b[0m \u001b[1;32mNone\u001b[0m\u001b[1;33m,\u001b[0m \u001b[0mout\u001b[0m\u001b[1;33m,\u001b[0m \u001b[0mkeepdims\u001b[0m\u001b[1;33m,\u001b[0m \u001b[0minitial\u001b[0m\u001b[1;33m,\u001b[0m \u001b[0mwhere\u001b[0m\u001b[1;33m)\u001b[0m\u001b[1;33m\u001b[0m\u001b[1;33m\u001b[0m\u001b[0m\n\u001b[0m\u001b[0;32m     45\u001b[0m \u001b[1;33m\u001b[0m\u001b[0m\n\u001b[0;32m     46\u001b[0m def _sum(a, axis=None, dtype=None, out=None, keepdims=False,\n",
      "\u001b[1;31mTypeError\u001b[0m: 'numpy.float64' object cannot be interpreted as an integer"
     ]
    }
   ],
   "source": [
    "\n",
    "alpha_array = [0, 0.1, 0.2, 0.3, 0.4, 0.5, 0.6, 0.7, 0.8, 0.9, 1]\n",
    "sigma_array = [0, 0.1, 0.2, 0.3, 0.4, 0.5, 0.6, 0.7, 0.8, 0.9, 1]\n",
    "for i in range(len(alpha_array)):\n",
    "    for j in range(len(sigma_array)):\n",
    "    \n",
    "        model.par.alpha = alpha_array[i]\n",
    "        model.par.sigma = sigma_array[j]\n",
    "        model.solve()\n",
    "        var = model.var_calc(model.sol.beta0,model.sol.beta1)\n",
    "\n",
    "        if var<min_var:\n",
    "            min_var = var\n",
    "            min_a = model.par.alpha\n",
    "            min_s = model.par.sigma\n",
    "\n",
    "\n",
    "\n",
    "        \n",
    "    \n",
    "\n",
    "# min_a , min_s, min_var = model.minimize_variance(alpha_array,sigma_array)\n",
    "\n",
    "print(min_a)\n",
    "print(min_s)\n",
    "print(min_var)\n"
   ]
  },
  {
   "attachments": {},
   "cell_type": "markdown",
   "metadata": {},
   "source": [
    "Question 5"
   ]
  },
  {
   "attachments": {},
   "cell_type": "markdown",
   "metadata": {},
   "source": [
    "Based on the result of Q4, we would includes an additional parameter for the regression to extend the model and match the date when alpha equals to 0.5."
   ]
  },
  {
   "cell_type": "code",
   "execution_count": 74,
   "metadata": {},
   "outputs": [],
   "source": [
    "#choose alpha such that M and W are equally productive\n",
    "model.par.alpha = 0.5"
   ]
  },
  {
   "cell_type": "markdown",
   "metadata": {},
   "source": [
    "ADD CONCISE CONLUSION."
   ]
  }
 ],
 "metadata": {
  "kernelspec": {
   "display_name": "base",
   "language": "python",
   "name": "python3"
  },
  "language_info": {
   "codemirror_mode": {
    "name": "ipython",
    "version": 3
   },
   "file_extension": ".py",
   "mimetype": "text/x-python",
   "name": "python",
   "nbconvert_exporter": "python",
   "pygments_lexer": "ipython3",
   "version": "3.9.16"
  },
  "toc-autonumbering": true,
  "vscode": {
   "interpreter": {
    "hash": "73e174c175f6e9fb27815dde57d54b61eca01ca907500180280e270abef9a4fa"
   }
  }
 },
 "nbformat": 4,
 "nbformat_minor": 4
}
