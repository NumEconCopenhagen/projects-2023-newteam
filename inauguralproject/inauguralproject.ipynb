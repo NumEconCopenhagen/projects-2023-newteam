{
 "cells": [
  {
   "cell_type": "markdown",
   "metadata": {},
   "source": [
    "# Inaugural Project"
   ]
  },
  {
   "attachments": {},
   "cell_type": "markdown",
   "metadata": {},
   "source": [
    "> **Note the following:** \n",
    "> 1. This is an example of how to structure your **inaugural project**.\n",
    "> 1. Remember the general advice on structuring and commenting your code\n",
    "> 1. The `inauguralproject.py` file includes a function which can be used multiple times in this notebook."
   ]
  },
  {
   "cell_type": "markdown",
   "metadata": {},
   "source": [
    "Imports and set magics:"
   ]
  },
  {
   "cell_type": "markdown",
   "metadata": {},
   "source": [
    "# Question 1"
   ]
  },
  {
   "cell_type": "code",
   "execution_count": 2,
   "metadata": {},
   "outputs": [],
   "source": [
    "import numpy as np\n",
    "\n",
    "# autoreload modules when code is run. Otherwise, python will not see recent changes. \n",
    "%load_ext autoreload\n",
    "%autoreload 2\n",
    "\n",
    "# Import your own code\n",
    "import inauguralproject\n",
    "\n",
    "#import packages\n",
    "\n",
    "import matplotlib.pyplot as plt\n",
    "from scipy import optimize\n",
    "import pandas as pd\n"
   ]
  },
  {
   "cell_type": "code",
   "execution_count": 3,
   "metadata": {},
   "outputs": [],
   "source": [
    "model = inauguralproject.inauguralproject()"
   ]
  },
  {
   "cell_type": "code",
   "execution_count": 5,
   "metadata": {},
   "outputs": [
    {
     "name": "stderr",
     "output_type": "stream",
     "text": [
      "c:\\Users\\Yas\\Documents\\Uni\\Vorlesungen\\2023FS\\Programming\\projects-2023-newteam-1\\inauguralproject\\inauguralproject.py:61: RuntimeWarning: divide by zero encountered in reciprocal\n",
      "  H = (1- par.alpha)*HM**((par.sigma -1)/par.sigma)+ par.alpha*HF**((par.sigma -1)/par.sigma)\n",
      "c:\\Users\\Yas\\Documents\\Uni\\Vorlesungen\\2023FS\\Programming\\projects-2023-newteam-1\\inauguralproject\\inauguralproject.py:65: RuntimeWarning: invalid value encountered in multiply\n",
      "  Q = C**par.omega*H**(1-par.omega)\n",
      "C:\\Users\\Yas\\AppData\\Local\\Temp\\ipykernel_14160\\2508345517.py:12: RuntimeWarning: invalid value encountered in double_scalars\n",
      "  optm[it, jt] = opt.HM/opt.HF\n"
     ]
    },
    {
     "name": "stdout",
     "output_type": "stream",
     "text": [
      "[[       nan 3.25       8.        ]\n",
      " [       nan 1.         0.8       ]\n",
      " [       nan 0.30769231 0.125     ]]\n",
      "alpha = 0.75 and sigma = 1.5, HF/HM = 4.0000 / 0.5000 = 8.0000\n"
     ]
    }
   ],
   "source": [
    "#create list with new values of alpha and solve\n",
    "al = [0.25, .5, .75]\n",
    "#create list with new values of sigma and solve\n",
    "sl = [0.5, 1, 1.5]\n",
    "optm = np.zeros([3,3])\n",
    "for it, a in enumerate(al):\n",
    "    model.par.alpha = a\n",
    "\n",
    "    for jt, s in enumerate(sl):\n",
    "        model.par.sigma = s\n",
    "        opt = model.solve_discrete()\n",
    "        optm[it, jt] = opt.HM/opt.HF\n",
    "print(optm)\n",
    "\n",
    "#store results\n",
    "res_HF = {}\n",
    "res_HM = {}\n",
    "res_HFHM = {}\n",
    "\n",
    "res_HF = opt.HF\n",
    "res_HM = opt.HM\n",
    "res_HFHM = optm\n",
    "\n",
    "print(f\"alpha = {a} and sigma = {s}, HF/HM = {opt.HF:.4f} / {opt.HM:.4f} = {opt.HF/opt.HM:.4f}\")\n",
    "#now its only printing the last value --> how can i print all the values ? mybe another list??\n",
    "\n",
    "#plot the results \n",
    "\n",
    "plt.xlabel('xxx')\n",
    "plt.ylabel('xxx')\n",
    "plt.title('xxx')\n",
    "\n",
    "plt.show()                 \n",
    "#plt.imshow(optm)\n",
    "#plt.show\n",
    "        \n",
    "\n",
    "\n"
   ]
  },
  {
   "attachments": {},
   "cell_type": "markdown",
   "metadata": {},
   "source": []
  },
  {
   "cell_type": "code",
   "execution_count": null,
   "metadata": {},
   "outputs": [],
   "source": [
    "     \n",
    "# plot the results\n",
    "fig, ax = plt.subplots()\n",
    "for alpha in alpha_list:\n",
    "    y = [resultsHFHNM[(alpha, sigma)] for sigma in sigma_list]\n",
    "    ax.plot(sigma_list, y, label=f\"alpha={alpha}\")\n",
    "\n",
    "\n",
    "# plot the results 2.0\n",
    "fig1, ax = plt.subplots()\n",
    "for sigma in sigma_list:\n",
    "    y = [resultsHFHNM[(alpha, sigma)] for alpha in alpha_list]\n",
    "    ax.plot(alpha_list, y, label=f\"sigma={sigma}\")\n",
    "\n"
   ]
  },
  {
   "cell_type": "markdown",
   "metadata": {},
   "source": [
    "# Question 2"
   ]
  },
  {
   "cell_type": "markdown",
   "metadata": {},
   "source": [
    "Explain your code and procedure"
   ]
  },
  {
   "cell_type": "code",
   "execution_count": 48,
   "metadata": {},
   "outputs": [
    {
     "data": {
      "image/png": "[encoded data removed]",
      "text/plain": [
       "<Figure size 640x480 with 1 Axes>"
      ]
     },
     "metadata": {},
     "output_type": "display_data"
    }
   ],
   "source": [
    "import numpy as np\n",
    "from types import SimpleNamespace\n",
    "from inauguralproject import inauguralproject\n",
    "\n",
    "#create list with new values of WF\n",
    "wF_values = np.array([0.8, 0.9, 1.0, 1.1, 1.2])\n",
    "\n",
    "#Define log of wf/wm as an array \n",
    "ratio_wf_wm = [num / model.par.wM for num in wF_values]\n",
    "log_WF_WM = np.log(ratio_wf_wm)\n",
    "    \n",
    "\n",
    "#define Hf/Hm and convert to an Array S\n",
    "ratio_hf_hm = opt.HF/opt.HM\n",
    "log_HF_HM = np.log(ratio_hf_hm)\n",
    "arr_hf_hm = np.array([])\n",
    "for i in range(5):\n",
    "    arr_hf_hm = np.append(arr_hf_hm, log_HF_HM)\n",
    "\n",
    "# plot \n",
    "plt.plot(arr_hf_hm,log_WF_WM)\n",
    "\n",
    "# Set plot labels and title\n",
    "plt.xlabel('log of HM/HF')\n",
    "plt.ylabel('log of WF/WM')\n",
    "plt.title('Logarithmic plot')\n",
    "\n",
    "plt.show()"
   ]
  },
  {
   "cell_type": "code",
   "execution_count": 46,
   "metadata": {},
   "outputs": [
    {
     "data": {
      "text/plain": [
       "array([2.07944154, 2.07944154, 2.07944154, 2.07944154, 2.07944154])"
      ]
     },
     "execution_count": 46,
     "metadata": {},
     "output_type": "execute_result"
    }
   ],
   "source": [
    "arr_hf_hm\n"
   ]
  },
  {
   "cell_type": "markdown",
   "metadata": {},
   "source": [
    "# Question 3"
   ]
  },
  {
   "cell_type": "markdown",
   "metadata": {},
   "source": [
    "Explain your code and procedure"
   ]
  },
  {
   "cell_type": "code",
   "execution_count": 12,
   "metadata": {},
   "outputs": [],
   "source": [
    "def solve(self, do_print=False):\n",
    "    \"\"\" solve model continously \"\"\"\n",
    "\n",
    "    par = self.par\n",
    "    sol = self.sol\n",
    "\n",
    "    # a. objective function\n",
    "    def obj(HF):\n",
    "        HM = optimize.minimize_scalar(lambda HM: -self.calc_utility(HM+HF*par.alpha/(1-par.alpha),HM,HF-par.alpha/(1-par.alpha)*HM,HF),\n",
    "                                      bounds=(1e-8,24), method='bounded').x\n",
    "        LM = 24 - HM\n",
    "        LF = 24 - HF\n",
    "        return np.log(HF/HM)\n",
    "\n",
    "    # b. solve for different values of wF\n",
    "    for i, wF in enumerate(par.wF_vec):\n",
    "        par.wF = wF\n",
    "        sol.HF_vec[i] = optimize.minimize_scalar(lambda HF: -obj(HF), bounds=(1e-8,24), method='bounded').x\n",
    "        sol.HM_vec[i] = optimize.minimize_scalar(lambda HM: -self.calc_utility(HM+sol.HF_vec[i]*par.alpha/(1-par.alpha),HM,sol.HF_vec[i]-par.alpha/(1-par.alpha)*HM,sol.HF_vec[i]),\n",
    "                                                  bounds=(1e-8,24), method='bounded').x\n",
    "        sol.LM_vec[i] = 24 - sol.HM_vec[i]\n",
    "        sol.LF_vec[i] = 24 - sol.HF_vec[i]\n",
    "\n",
    "    # c. print results\n",
    "    if do_print:\n",
    "        for i, wF in enumerate(par.wF_vec):\n",
    "            print(f\"wF = {wF:.2f}, HF = {sol.HF_vec[i]:.4f}, HM = {sol.HM_vec[i]:.4f}\")\n",
    "\n",
    "    "
   ]
  },
  {
   "cell_type": "code",
   "execution_count": null,
   "metadata": {},
   "outputs": [],
   "source": [
    "\n",
    "# plot results\n"
   ]
  },
  {
   "cell_type": "markdown",
   "metadata": {},
   "source": [
    "ADD CONCISE CONLUSION."
   ]
  },
  {
   "attachments": {},
   "cell_type": "markdown",
   "metadata": {},
   "source": [
    "Question 4 "
   ]
  },
  {
   "cell_type": "code",
   "execution_count": 16,
   "metadata": {},
   "outputs": [],
   "source": [
    "#choose alpha such that M and W are equally productive\n",
    "model.par.alpha = 0.5"
   ]
  },
  {
   "attachments": {},
   "cell_type": "markdown",
   "metadata": {},
   "source": [
    "Question 5"
   ]
  }
 ],
 "metadata": {
  "kernelspec": {
   "display_name": "base",
   "language": "python",
   "name": "python3"
  },
  "language_info": {
   "codemirror_mode": {
    "name": "ipython",
    "version": 3
   },
   "file_extension": ".py",
   "mimetype": "text/x-python",
   "name": "python",
   "nbconvert_exporter": "python",
   "pygments_lexer": "ipython3",
   "version": "3.8.16"
  },
  "toc-autonumbering": true,
  "vscode": {
   "interpreter": {
    "hash": "73e174c175f6e9fb27815dde57d54b61eca01ca907500180280e270abef9a4fa"
   }
  }
 },
 "nbformat": 4,
 "nbformat_minor": 4
}
