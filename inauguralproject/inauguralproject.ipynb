{
 "cells": [
  {
   "cell_type": "markdown",
   "metadata": {},
   "source": [
    "# Inaugural Project"
   ]
  },
  {
   "attachments": {},
   "cell_type": "markdown",
   "metadata": {},
   "source": [
    "> **Note the following:** \n",
    "> 1. This is an example of how to structure your **inaugural project**.\n",
    "> 1. Remember the general advice on structuring and commenting your code\n",
    "> 1. The `inauguralproject.py` file includes a function which can be used multiple times in this notebook."
   ]
  },
  {
   "cell_type": "markdown",
   "metadata": {},
   "source": [
    "Imports and set magics:"
   ]
  },
  {
   "cell_type": "code",
   "execution_count": 2,
   "metadata": {},
   "outputs": [],
   "source": [
    "import numpy as np\n",
    "\n",
    "# autoreload modules when code is run. Otherwise, python will not see recent changes. \n",
    "%load_ext autoreload\n",
    "%autoreload 2\n",
    "\n",
    "# Import your own code\n",
    "import inauguralproject\n",
    "\n",
    "#import packages\n",
    "\n",
    "import matplotlib as plt\n",
    "from scipy import optimize\n",
    "import pandas as pd\n"
   ]
  },
  {
   "cell_type": "code",
   "execution_count": 14,
   "metadata": {},
   "outputs": [],
   "source": [
    "model = inauguralproject.inauguralproject()"
   ]
  },
  {
   "cell_type": "code",
   "execution_count": 28,
   "metadata": {},
   "outputs": [
    {
     "name": "stderr",
     "output_type": "stream",
     "text": [
      "c:\\Users\\Yas\\Documents\\Uni\\Vorlesungen\\2023FS\\Programming\\projects-2023-newteam-1\\inauguralproject\\inauguralproject.py:61: RuntimeWarning: divide by zero encountered in reciprocal\n",
      "  \n",
      "c:\\Users\\Yas\\Documents\\Uni\\Vorlesungen\\2023FS\\Programming\\projects-2023-newteam-1\\inauguralproject\\inauguralproject.py:65: RuntimeWarning: invalid value encountered in multiply\n",
      "  TF = LF+HF\n",
      "C:\\Users\\Yas\\AppData\\Local\\Temp\\ipykernel_11412\\1966323211.py:12: RuntimeWarning: invalid value encountered in double_scalars\n",
      "  optm[it, jt] = opt.HM/opt.HF\n"
     ]
    }
   ],
   "source": [
    "#create list with new values of alpha and solve\n",
    "al = [0.25, .5, .75]\n",
    "#create list with new values of sigma and solve\n",
    "sl = [0.5, 1, 1.5]\n",
    "optm = np.zeros([3,3])\n",
    "for it, a in enumerate(al):\n",
    "    model.par.alpha = a\n",
    "\n",
    "    for jt, s in enumerate(sl):\n",
    "        model.par.sigma = s\n",
    "        opt = model.solve_discrete()\n",
    "        optm[it, jt] = opt.HM/opt.HF\n",
    "\n",
    "\n"
   ]
  },
  {
   "cell_type": "code",
   "execution_count": 29,
   "metadata": {},
   "outputs": [
    {
     "data": {
      "text/plain": [
       "array([[       nan, 3.25      , 8.        ],\n",
       "       [       nan, 1.        , 0.8       ],\n",
       "       [       nan, 0.30769231, 0.125     ]])"
      ]
     },
     "execution_count": 29,
     "metadata": {},
     "output_type": "execute_result"
    }
   ],
   "source": [
    "optm"
   ]
  },
  {
   "cell_type": "markdown",
   "metadata": {},
   "source": [
    "# Question 1"
   ]
  },
  {
   "cell_type": "markdown",
   "metadata": {},
   "source": [
    "**Explain how you solve the model**"
   ]
  },
  {
   "cell_type": "code",
   "execution_count": 16,
   "metadata": {},
   "outputs": [
    {
     "ename": "AttributeError",
     "evalue": "module 'inauguralproject' has no attribute 'square'",
     "output_type": "error",
     "traceback": [
      "\u001b[1;31m---------------------------------------------------------------------------\u001b[0m",
      "\u001b[1;31mAttributeError\u001b[0m                            Traceback (most recent call last)",
      "\u001b[1;32m~\\AppData\\Local\\Temp\\ipykernel_11412\\3197735493.py\u001b[0m in \u001b[0;36m<module>\u001b[1;34m\u001b[0m\n\u001b[0;32m      2\u001b[0m \u001b[1;33m\u001b[0m\u001b[0m\n\u001b[0;32m      3\u001b[0m \u001b[0ma\u001b[0m \u001b[1;33m=\u001b[0m \u001b[0mnp\u001b[0m\u001b[1;33m.\u001b[0m\u001b[0marray\u001b[0m\u001b[1;33m(\u001b[0m\u001b[1;33m[\u001b[0m\u001b[1;36m1\u001b[0m\u001b[1;33m,\u001b[0m\u001b[1;36m2\u001b[0m\u001b[1;33m,\u001b[0m\u001b[1;36m3\u001b[0m\u001b[1;33m]\u001b[0m\u001b[1;33m)\u001b[0m\u001b[1;33m\u001b[0m\u001b[1;33m\u001b[0m\u001b[0m\n\u001b[1;32m----> 4\u001b[1;33m \u001b[0mb\u001b[0m \u001b[1;33m=\u001b[0m \u001b[0minauguralproject\u001b[0m\u001b[1;33m.\u001b[0m\u001b[0msquare\u001b[0m\u001b[1;33m(\u001b[0m\u001b[0ma\u001b[0m\u001b[1;33m)\u001b[0m\u001b[1;33m\u001b[0m\u001b[1;33m\u001b[0m\u001b[0m\n\u001b[0m\u001b[0;32m      5\u001b[0m \u001b[0mprint\u001b[0m\u001b[1;33m(\u001b[0m\u001b[0mb\u001b[0m\u001b[1;33m)\u001b[0m\u001b[1;33m\u001b[0m\u001b[1;33m\u001b[0m\u001b[0m\n",
      "\u001b[1;31mAttributeError\u001b[0m: module 'inauguralproject' has no attribute 'square'"
     ]
    }
   ],
   "source": [
    "# code for solving the model (remember documentation and comments)\n",
    "\n",
    "a = np.array([1,2,3])\n",
    "b = inauguralproject.square(a)\n",
    "print(b)"
   ]
  },
  {
   "cell_type": "markdown",
   "metadata": {},
   "source": [
    "# Question 2"
   ]
  },
  {
   "cell_type": "markdown",
   "metadata": {},
   "source": [
    "Explain your code and procedure"
   ]
  },
  {
   "cell_type": "code",
   "execution_count": 3,
   "metadata": {},
   "outputs": [],
   "source": [
    "#create list with new values of WF\n",
    "wFl = [0.8, 0.9, 1.0, 1.1, 1.2]\n",
    "    for it, w in enumerate(WFl):\n",
    "    model.par.WF = w\n",
    "\n",
    "#define Hf/Hm\n",
    "    x = log () #how to define HF/HM??\n",
    "\n",
    "#define wf/wm\n",
    "    y = log (model.par.wF/ model.par.wM)\n",
    "\n",
    "# plot \n",
    "    plt.plot(x,y)\n",
    "\n",
    "# Set plot labels and title\n",
    "    plt.xlabel('log of HM/WM')\n",
    "    plt.ylabel('log of WF/WM')\n",
    "    plt.title('Logarithmic plot')"
   ]
  },
  {
   "cell_type": "markdown",
   "metadata": {},
   "source": [
    "# Question 3"
   ]
  },
  {
   "cell_type": "markdown",
   "metadata": {},
   "source": [
    "Explain your code and procedure"
   ]
  },
  {
   "cell_type": "code",
   "execution_count": 4,
   "metadata": {},
   "outputs": [],
   "source": [
    "# code"
   ]
  },
  {
   "cell_type": "markdown",
   "metadata": {},
   "source": [
    "ADD CONCISE CONLUSION."
   ]
  }
 ],
 "metadata": {
  "kernelspec": {
   "display_name": "base",
   "language": "python",
   "name": "python3"
  },
  "language_info": {
   "codemirror_mode": {
    "name": "ipython",
    "version": 3
   },
   "file_extension": ".py",
   "mimetype": "text/x-python",
   "name": "python",
   "nbconvert_exporter": "python",
   "pygments_lexer": "ipython3",
   "version": "3.8.16"
  },
  "toc-autonumbering": true,
  "vscode": {
   "interpreter": {
    "hash": "73e174c175f6e9fb27815dde57d54b61eca01ca907500180280e270abef9a4fa"
   }
  }
 },
 "nbformat": 4,
 "nbformat_minor": 4
}
