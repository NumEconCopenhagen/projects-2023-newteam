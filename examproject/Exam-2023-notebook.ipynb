{
 "cells": [
  {
   "attachments": {},
   "cell_type": "markdown",
   "metadata": {},
   "source": [
    "**Table of contents**<a id='toc0_'></a>    \n",
    "- 1. [Problem 1: Optimal taxation with government consumption](#toc1_)    \n",
    "- 2. [Problem 2: Labor adjustment costs](#toc2_)    \n",
    "- 3. [Problem 3: Global optimizer with refined multi-start](#toc3_)    \n",
    "\n",
    "<!-- vscode-jupyter-toc-config\n",
    "\tnumbering=true\n",
    "\tanchor=true\n",
    "\tflat=false\n",
    "\tminLevel=2\n",
    "\tmaxLevel=6\n",
    "\t/vscode-jupyter-toc-config -->\n",
    "<!-- THIS CELL WILL BE REPLACED ON TOC UPDATE. DO NOT WRITE YOUR TEXT IN THIS CELL -->"
   ]
  },
  {
   "cell_type": "code",
   "execution_count": 1,
   "metadata": {},
   "outputs": [],
   "source": [
    "#install packages \n",
    "\n",
    "import numpy as np\n",
    "import pandas as pd\n",
    "from types import SimpleNamespace\n",
    "import matplotlib.pyplot as plt\n",
    "from matplotlib import cm #used for 3d plots\n",
    "from scipy import optimize \n",
    "from scipy.optimize import minimize\n",
    "%load_ext autoreload\n",
    "%autoreload 2\n",
    "\n",
    "%matplotlib inline"
   ]
  },
  {
   "attachments": {},
   "cell_type": "markdown",
   "metadata": {},
   "source": [
    "## 1. <a id='toc1_'></a>[Problem 1: Optimal taxation with government consumption](#toc0_)"
   ]
  },
  {
   "attachments": {},
   "cell_type": "markdown",
   "metadata": {},
   "source": [
    "\n",
    "Consider a worker choosing hours of labor, $L\\in[0,24]$, to maximize utility: \n",
    "\n",
    "$$\n",
    "\\begin{align*}\n",
    "V(w,\\tau,G)&=\\max_{L\\in[0,24]}\\ln\\left(C^{\\alpha}G^{1-\\alpha}\\right)-\\nu\\frac{L^{2}}{2}\\\\&\\text{s.t.}\\\\&C=\\kappa+(1-\\tau)wL\n",
    "\\end{align*}\n",
    "$$\n",
    "\n",
    "where \n",
    "\n",
    "* $C$ is *private* consumption with weight $\\alpha\\in(0,1)$.\n",
    "* $\\kappa > 0$ is the *free private* consumption component.\n",
    "* $C = (1-\\tau)wL$ is the *costly private* consumption component.\n",
    "* $w > 0 $ is the real wage.\n",
    "* $\\tau \\in (0,1)$ is the labor-income tax rate.\n",
    "* $G > 0 $ is *government* consumption with weight $1-\\alpha$.\n",
    "* $\\nu > 0$ is the disutility of labor scaling factor"
   ]
  },
  {
   "attachments": {},
   "cell_type": "markdown",
   "metadata": {},
   "source": [
    "\n",
    "The baseline parameters are:\n",
    "\n",
    "$$\n",
    "\\begin{align*}\n",
    "\\alpha &= 0.5\\\\\n",
    "\\kappa &= 1.0\\\\\n",
    "\\nu &= \\frac{1}{2\\cdot16^2} \\\\\n",
    "w &= 1.0 \\\\ \n",
    "\\tau &= 0.30 \\\\\n",
    "\\end{align*}\n",
    "$$"
   ]
  },
  {
   "attachments": {},
   "cell_type": "markdown",
   "metadata": {},
   "source": [
    "**Question 1:** Verify that the optimal labor supply choice is $L^{\\star}(\\tilde{w}) =\\frac{-\\kappa+\\sqrt{\\kappa^{2}+4\\frac{\\alpha}{\\nu}\\tilde{w}^2}}{2\\tilde{w}}$, where $\\tilde{w} = (1-\\tau)w$, for $G\\in\\left\\{1.0 , 2.0\\right\\}$."
   ]
  },
  {
   "cell_type": "code",
   "execution_count": 2,
   "metadata": {},
   "outputs": [],
   "source": [
    "# write your code here"
   ]
  },
  {
   "attachments": {},
   "cell_type": "markdown",
   "metadata": {},
   "source": [
    "**Question 2:** Illustrate how $L^{\\star}(\\tilde{w})$ depends on $w$."
   ]
  },
  {
   "cell_type": "code",
   "execution_count": 3,
   "metadata": {},
   "outputs": [],
   "source": [
    "# write your code here"
   ]
  },
  {
   "attachments": {},
   "cell_type": "markdown",
   "metadata": {},
   "source": [
    "\n",
    "We now consider a government, who chooses $\\tau$ and spend all of the taxes on government consumption so:\n",
    "\n",
    "$$\n",
    "G = \\tau w L^{\\star}((1-\\tau)w)\n",
    "$$\n",
    "\n",
    "**Question 3:** Plot the implied $L$, $G$ and worker utility for a grid of $\\tau$-values.\n"
   ]
  },
  {
   "cell_type": "code",
   "execution_count": 4,
   "metadata": {},
   "outputs": [],
   "source": [
    "# write your code here"
   ]
  },
  {
   "attachments": {},
   "cell_type": "markdown",
   "metadata": {},
   "source": [
    "**Question 4:** Find the socially optimal tax rate $\\tau^{\\star}\\in(0,1)$ maximizing worker utility. Illustrate your result."
   ]
  },
  {
   "cell_type": "code",
   "execution_count": 5,
   "metadata": {},
   "outputs": [],
   "source": [
    "# write your code here"
   ]
  },
  {
   "attachments": {},
   "cell_type": "markdown",
   "metadata": {},
   "source": [
    "A more general preference formulation for the worker is:\n",
    "\n",
    "$$\n",
    "\\begin{align*}\n",
    "\\mathcal{V}(w,\\tau,G)&=\\max_{L\\in[0,24]}\\frac{\\left[ \\left( \\alpha C^{\\frac{\\sigma-1}{\\sigma}}+(1-\\alpha) G^{\\frac{\\sigma-1}{\\sigma}} \\right)^{\\frac{\\sigma}{1-\\sigma} }\\right]^{1-\\rho}-1}{1-\\rho}- \\nu\\frac{L^{1+\\varepsilon}}{1+\\varepsilon},\\,\\,\\,\\varepsilon,\\rho,\\sigma>0,\\,\\,\\,\\rho,\\sigma\\neq1\\\\&\\text{s.t.}\\\\&C=\\kappa+(1-\\tau)wL\n",
    "\\end{align*}    \n",
    "$$\n",
    "\n",
    "Optimal labor supply is now $L^{\\star}(\\tilde{w},G)$."
   ]
  },
  {
   "attachments": {},
   "cell_type": "markdown",
   "metadata": {},
   "source": [
    "Questions 5 and 6 must be answered with the general formulation, and for 2 different set of parameters:\n",
    "\n",
    "- Set 1:  $\\sigma = 1.001$, $\\rho = 1.001$ and $\\varepsilon = 1.0$.\n",
    "- Set 2:  $\\sigma = 1.5$, $\\rho = 1.5$ and $\\varepsilon = 1.0 $."
   ]
  },
  {
   "attachments": {},
   "cell_type": "markdown",
   "metadata": {},
   "source": [
    "**Question 5:** Find the $G$ that solves $G = \\tau w L^{\\star}((1-\\tau)w,G)$ using the $\\tau$ found in question 4.\n",
    "\n",
    "*Hint: First write code that solves the worker problem for given values of $G$ and $\\tau$. Then find the correct G based on this.*"
   ]
  },
  {
   "cell_type": "code",
   "execution_count": 6,
   "metadata": {},
   "outputs": [],
   "source": [
    "# write your code here"
   ]
  },
  {
   "attachments": {},
   "cell_type": "markdown",
   "metadata": {},
   "source": [
    "**Question 6:** Find the socially optimal tax rate, $\\tau^{\\star}$, maximizing worker utility, while keeping $G = \\tau w L^{\\star}((1-\\tau)w,G)$."
   ]
  },
  {
   "cell_type": "code",
   "execution_count": 7,
   "metadata": {},
   "outputs": [],
   "source": [
    "# write your code here  "
   ]
  },
  {
   "attachments": {},
   "cell_type": "markdown",
   "metadata": {},
   "source": [
    "## 2. <a id='toc2_'></a>[Problem 2: Labor adjustment costs](#toc0_)"
   ]
  },
  {
   "attachments": {},
   "cell_type": "markdown",
   "metadata": {},
   "source": [
    "You own a hair salon. You employ hairdressers, $\\ell_t$, to produce haircuts, $y_t = \\ell_t$.\n",
    "\n",
    "The wage for each haridresser is $w$.\n",
    "\n",
    "The demand for haircuts implies that the price of haircuts you can charge is $p_t = \\kappa_t y_t^{-\\eta}$, where $\\kappa_t$ is a demand-shock and $\\eta \\in (0,1)$ measures the elasticity of demand.\n",
    "\n",
    "Profits are:\n",
    "\n",
    "$$\n",
    "\\Pi_t = p_t y_t - w \\ell_t = \\kappa_t \\ell_t^{1-\\eta} - w \\ell_t\n",
    "$$"
   ]
  },
  {
   "attachments": {},
   "cell_type": "markdown",
   "metadata": {},
   "source": [
    "Baseline parameters are:\n",
    "- $\\eta = 0.5$\n",
    "- $w = 1.0$"
   ]
  },
  {
   "attachments": {},
   "cell_type": "markdown",
   "metadata": {},
   "source": [
    "**Question 1:** Verify numerically that $\\ell_{t}=\\left(\\frac{(1-\\eta)\\kappa_{t}}{w}\\right)^{\\frac{1}{\\eta}}$ maximises profits, for $\\kappa\\in\\left\\{1.0 , 2.0\\right\\}$."
   ]
  },
  {
   "cell_type": "code",
   "execution_count": 110,
   "metadata": {},
   "outputs": [
    {
     "name": "stdout",
     "output_type": "stream",
     "text": [
      "\n",
      "For kappa = 1.0:\n",
      " Numerical calculation:\n",
      "  l = 0.25 , profits = 0.75\n",
      " With model solution:\n",
      "  l = 0.25 , profits = 0.75\n",
      "\n",
      "For kappa = 2.0:\n",
      " Numerical calculation:\n",
      "  l = 1.00 , profits = 1.00\n",
      " With model solution:\n",
      "  l = 0.25 , profits = 0.75\n"
     ]
    }
   ],
   "source": [
    "# write your code here\n",
    "\n",
    "import numpy as np\n",
    "from scipy import optimize\n",
    "\n",
    "import pandas as pd \n",
    "import matplotlib.pyplot as plt\n",
    "\n",
    "# Baseline parameters\n",
    "eta = 0.5   # Elasticity of demand\n",
    "w = 1.0     # Wages\n",
    "\n",
    "# Lamda functions for the given equations\n",
    "y = lambda l : l                                                          # Amount of haircuts y = l\n",
    "price = lambda  y : k * (y ** - eta)                                      # Price function\n",
    "profits1 = lambda l : price(y(l)) * y(l) - w * (l ** (1 - eta)) - w * l   # Profit function 1\n",
    "profits2 = lambda  l : k * (l ** (1 - eta)) - w * l                       # Profit function 2\n",
    "\n",
    "\n",
    "l_test = lambda kap : (((1 - eta) * kap) / w) ** (1 / eta)     # Lamda function to check maximizing l from the model\n",
    "\n",
    "# Define kappa within given set, the code is set up such that this array can be changed\n",
    "kappa = [1.0 , 2.0]\n",
    "\n",
    "# Define arrays, where we will store the results of  the numerical analysis and the models prediction for l which maximizes profit\n",
    "opt = []   # Array with numerically calculated optimal l values\n",
    "check = [] # Array with l values found via theoretical model\n",
    "\n",
    "# Define the function we want to minimize, setting negative profits to maximize actual profits\n",
    "def Objective(l):\n",
    "    return -profits2(l)\n",
    "\n",
    "x0 = 1.0 # Initial guess for optimization function\n",
    "\n",
    "bounds = [(0.0 , None)] # Bounds for l; we cannot hire less than 0 hairdressers, \n",
    "# Fractions might be argued as possible where hairdressers might not be working full-time\n",
    "\n",
    "\n",
    "# Loop for calculation and storage of results\n",
    "for k in kappa:\n",
    "    res = optimize.minimize(Objective, x0 , method='SLSQP', bounds=bounds)\n",
    "    check.append(l_test(k))\n",
    "    opt.append(res.x[0])\n",
    "\n",
    "# Loop to print out the collected data\n",
    "# while this could be included in the previous loop, having a different loop for the printout allows for the possibility of editing the data\n",
    "for i in range(len(kappa)):\n",
    "    print ('\\nFor kappa = %.1f:\\n Numerical calculation:\\n  l = %.2f , profits = %.2f\\n With model solution:\\n  l = %.2f , profits = %.2f'% ( kappa[i] , opt[i] , profits2(opt[i]) , check[i] , profits2(check[i])))\n",
    "\n",
    " "
   ]
  },
  {
   "attachments": {},
   "cell_type": "markdown",
   "metadata": {},
   "source": []
  },
  {
   "attachments": {},
   "cell_type": "markdown",
   "metadata": {},
   "source": [
    "We now consider a *dynamic* version of the model.\n",
    "\n",
    "* The demand-shock is a so-called AR(1) in logs, \n",
    "\n",
    "$$\n",
    "\\log \\kappa_{t} = \\rho \\log \\kappa_{t-1} + \\epsilon_{t},\\,\\,\\, \\epsilon_{t+1} \\sim \\mathcal{N}(-0.5\\sigma_{\\epsilon}^2,\\sigma_{\\epsilon})\n",
    "$$\n",
    "\n",
    "* Any hiring or firing implies a fixed adjustment cost, $\\iota > 0 $.\n",
    "* Future profits are discounted with a monthly factor of $R \\in (0,1)$.\n",
    "\n",
    "The initial demand shock is $\\kappa_{-1} = 1$ and the planning horizon is 10 years, i.e. 120 months so $t \\in \\{0,1,2,\\dots,119\\}$. Initially you don't have any employees, $\\ell_{-1}=0$"
   ]
  },
  {
   "attachments": {},
   "cell_type": "markdown",
   "metadata": {},
   "source": [
    "\n",
    "The *ex post* value of the salon is *conditional* on the shock series is:\n",
    "\n",
    "$$\n",
    "h(\\epsilon_0,\\epsilon_1,\\dots,\\epsilon_{119}) = \\left[\\sum_{t=0}^{119}R^{-t}\\left[\\kappa_{t}\\ell_{t}^{1-\\eta}-w\\ell_{t}-\\boldsymbol{1}_{\\ell_{t}\\neq\\ell_{t-1}}\\iota\\right]\\right]\n",
    "$$\n",
    "\n",
    "The *ex ante* expected value of the salon can be approximated by\n",
    "\n",
    "$$\n",
    "H = \\mathbb{E}[h(\\epsilon_0,\\epsilon_1,\\dots,\\epsilon_{119})] \\approx \\frac{1}{K}\\sum_{k=0}^{K} h(\\epsilon_0^k,\\epsilon_1^k,\\dots,\\epsilon_{119}^k)\n",
    "$$\n",
    "\n",
    "where each $k\\in\\{0,1,\\dots,K-1\\}$ is a random shock series. Maximizing profitability means maximizing $H$.\n"
   ]
  },
  {
   "attachments": {},
   "cell_type": "markdown",
   "metadata": {},
   "source": [
    "Baseline parameters are: \n",
    "\n",
    "- $\\rho = 0.90$\n",
    "- $\\iota = 0.01$\n",
    "- $\\sigma_{\\epsilon} = 0.10$\n",
    "- $R = \\left(1+0.01\\right)^{1/12}$"
   ]
  },
  {
   "attachments": {},
   "cell_type": "markdown",
   "metadata": {},
   "source": [
    "**Question 2:** Calculate $H$ if the policy  $\\ell_{t}=\\left(\\frac{(1-\\eta)\\kappa_{t}}{w}\\right)^{\\frac{1}{\\eta}}$ from question 1 is followed. Choose $K$ so the approximation is good enough to not affect your results substantially."
   ]
  },
  {
   "cell_type": "code",
   "execution_count": 9,
   "metadata": {},
   "outputs": [],
   "source": [
    "# write your code here "
   ]
  },
  {
   "attachments": {},
   "cell_type": "markdown",
   "metadata": {},
   "source": [
    "Next, we consider policies on the form:\n",
    "\n",
    "$$\n",
    "\n",
    "\\ell_{t}=\\begin{cases}\n",
    "\\ell_t^{\\ast}  & \\text{if }\\left|\\ell_{t-1}-\\ell_t^{\\ast} \\right|>\\Delta\\\\\n",
    "\\ell_{t-1} & \\text{else }\n",
    "\\end{cases}\n",
    "\\\\\n",
    "\\text{where}\\,\\,\\ell_t^{\\ast} = \\left(\\frac{(1-\\eta)\\kappa_{t}}{w}\\right)^{\\frac{1}{\\eta}} \\\\\n",
    "\n",
    "$$\n",
    "With $\\Delta \\geq 0$ and $\\Delta = 0$ being the previous policy.\n"
   ]
  },
  {
   "attachments": {},
   "cell_type": "markdown",
   "metadata": {},
   "source": [
    "\n",
    "**Question 3:** Calculate $H$ if the policy above was followed with $\\Delta = 0.05$. Does it improve profitability?"
   ]
  },
  {
   "cell_type": "code",
   "execution_count": 10,
   "metadata": {},
   "outputs": [],
   "source": [
    "# write your code here"
   ]
  },
  {
   "attachments": {},
   "cell_type": "markdown",
   "metadata": {},
   "source": [
    "**Question 4:** Find the optimal $\\Delta$ maximizing $H$. Illustrate your result."
   ]
  },
  {
   "cell_type": "code",
   "execution_count": 11,
   "metadata": {},
   "outputs": [],
   "source": [
    "# write your code here"
   ]
  },
  {
   "attachments": {},
   "cell_type": "markdown",
   "metadata": {},
   "source": [
    "\n",
    "**Question 5:** Suggest an alternative policy you believe might improve profitability. Implement and test your policy.\n",
    "\n"
   ]
  },
  {
   "cell_type": "code",
   "execution_count": 12,
   "metadata": {},
   "outputs": [],
   "source": [
    "# write your code here"
   ]
  },
  {
   "attachments": {},
   "cell_type": "markdown",
   "metadata": {},
   "source": [
    "## 3. <a id='toc3_'></a>[Problem 3: Global optimizer with refined multi-start](#toc0_)"
   ]
  },
  {
   "attachments": {},
   "cell_type": "markdown",
   "metadata": {},
   "source": [
    "We consider the Griewank function:\n",
    "\n",
    "$$ f(\\boldsymbol{x}) = \\sum^n_{i=1} \\frac{x^2_i}{4000}-\\prod^n_{i=1}\\cos\\left(\\frac{x_i}{\\sqrt{i}}\\right)+1$$\n",
    "\n",
    "The **global minimum** of this function is $f(0,0) = 0$ (remember: $\\cos(0)=1$).<br>\n",
    "But the function also have a lot of **local minima**."
   ]
  },
  {
   "cell_type": "code",
   "execution_count": 2,
   "metadata": {},
   "outputs": [],
   "source": [
    "def griewank(x):\n",
    "    return griewank_(x[0],x[1])\n",
    "    \n",
    "def griewank_(x1,x2):\n",
    "    A = x1**2/4000 + x2**2/4000\n",
    "    B = np.cos(x1/np.sqrt(1))*np.cos(x2/np.sqrt(2))\n",
    "    return A-B+1"
   ]
  },
  {
   "cell_type": "code",
   "execution_count": 3,
   "metadata": {},
   "outputs": [
    {
     "data": {
      "text/plain": [
       "0.0"
      ]
     },
     "execution_count": 3,
     "metadata": {},
     "output_type": "execute_result"
    }
   ],
   "source": [
    "#Test global minimum\n",
    "\n",
    "griewank(np.zeros(2))"
   ]
  },
  {
   "attachments": {},
   "cell_type": "markdown",
   "metadata": {},
   "source": [
    "A **refined global optimizer with multi-start** is:\n",
    "\n",
    "1. Choose *bounds* for $\\mathbf{x}$ and *tolerance* $\\tau > 0$.\n",
    "2. Choose number of *warm-up iterations*, $\\underline{K} > 0$ and *maximum number of iterations*, $K > \\underline{K}$.\n",
    "3. In each iteration for $k \\in \\{0,1,\\dots,K-1\\}$:\n",
    "\n",
    "    A. Draw random $\\mathbf{x}^k$ uniformly within chosen bounds.\n",
    "\n",
    "    B. If $k < \\underline{K}$ go to step E.\n",
    "\n",
    "    C. Calculate $\\chi^k = 0.50\\cdot\\frac{2}{1+\\exp((k-\\underline{K})/100)}$  \n",
    "\n",
    "    D. Set $\\mathbf{x}^{k0} = \\chi^k \\mathbf{x}^k + (1-\\chi^k)\\mathbf{x}^{\\ast} $\n",
    "\n",
    "    E. Run optimizer with $\\mathbf{x}^{k0}$ as initial guess and $\\mathbf{x}^{k\\ast}$ as result.\n",
    "\n",
    "    F. Set $\\mathbf{x}^{\\ast} = \\mathbf{x}^{k\\ast}$ if $k = 0$ or $f(\\mathbf{x}^{k\\ast}) < f(\\mathbf{x}^{\\ast})$\n",
    "\n",
    "    G. If $f(\\mathbf{x}^{\\ast}) < \\tau$ go to step 4.\n",
    "\n",
    "4. Return the result $\\mathbf{x}^{\\ast}$."
   ]
  },
  {
   "attachments": {},
   "cell_type": "markdown",
   "metadata": {},
   "source": [
    "As settings we choose:\n",
    "\n",
    "* $x_1,x_2 \\in  [-600,600]$\n",
    "* $\\tau = 10^{-8}$\n",
    "* $\\underline{K}=10$\n",
    "* $K=1000$\n",
    "\n",
    "The optimizer in Step 3.E is `BFGS` with a tolerance of $\\tau$."
   ]
  },
  {
   "attachments": {},
   "cell_type": "markdown",
   "metadata": {},
   "source": [
    "**Question 1:** Implement the refined global optimizer with multi-start. Illustrate how the effective initial guesses $\\mathbf{x}^{k0}$ vary with the iteration counter $k$."
   ]
  },
  {
   "cell_type": "code",
   "execution_count": 137,
   "metadata": {},
   "outputs": [],
   "source": [
    "def global_optm(bounds, tolerance, K_warmup, max_K):\n",
    "    # 1) Set tolerance and bounds\n",
    "    tolerance > 0\n",
    "    bounds = [np.array([-600, -600]), np.array([600, 600])]\n",
    "\n",
    "    # 2) Set Iterations\n",
    "    K_warmup > 0\n",
    "    max_K > K_warmup\n",
    "\n",
    "    # 3) Loop through k\n",
    "    fopt = np.inf\n",
    "    xopt = np.nan\n",
    "    for k in range(max_K):\n",
    "        # A) Draw k uniformly within chosen bounds\n",
    "        np.random.seed(2023)\n",
    "        xk = bounds[0] + (bounds[1] - bounds[0]) * np.random.uniform(size=(5000, 2))\n",
    "\n",
    "        xs = np.empty((max_K, 2))\n",
    "        fs = np.empty(max_K)\n",
    "\n",
    "        # B) if k < K run optimizer\n",
    "        if k < K_warmup:\n",
    "            x_guess = xk[0, :]\n",
    "            xk_star = optimize.minimize(griewank, x_guess, method='BFGS', tol=tolerance)\n",
    "            xs[k] = xk_star.x\n",
    "            fs[k] = xk_star.fun\n",
    "        else:\n",
    "            # C) calculate chi\n",
    "            chi = 0.5 * (2 / (1 + np.exp((k - K_warmup)) / 100))\n",
    "\n",
    "            # D) set x(0)\n",
    "            xk[0] = chi * xk + (1 - chi) * xs\n",
    "            xk[0] = np.squeeze(xk[0])  # set x0 to 1 dimension so that code can run without error\n",
    "\n",
    "            # E) run optimizer\n",
    "            xk_star = optimize.minimize(griewank, xk[0], method='BFGS', tol=tolerance)\n",
    "            xs[k] = xk_star.x\n",
    "            fs[k] = xk_star.fun\n",
    "\n",
    "            # F) set x_star\n",
    "            if xs.size == 0 or griewank(xk_star) <= griewank(xs):\n",
    "                xs = xk_star\n",
    "                fopt = fs[k]\n",
    "                xopt = xs[k]\n",
    "\n",
    "        # Print the results for each iteration\n",
    "        print(f'{k + 1:4d}: x0 = ({xk[0][0]:7.2f},{xk[0][1]:7.2f})', end='')\n",
    "        print(f' -> converged at ({xs[k][0]:7.2f},{xs[k][1]:7.2f}) with f = {fs[k]:12.8f}')\n",
    "\n",
    "    # best solution\n",
    "    print(f'\\nbest solution:\\n x = ({xopt[0]:7.2f},{xopt[1]:7.2f}) -> f = {fopt:12.8f}')\n"
   ]
  },
  {
   "cell_type": "code",
   "execution_count": 140,
   "metadata": {},
   "outputs": [],
   "source": [
    "def global_optm(bounds, tolerance, K_warmup, max_K):\n",
    "    # 1) Set tolerance and bounds\n",
    "    assert tolerance > 0\n",
    "    bounds = [np.array([-600, -600]), np.array([600, 600])]\n",
    "\n",
    "    # 2) Set Iterations\n",
    "    assert K_warmup > 0\n",
    "    assert max_K > K_warmup\n",
    "\n",
    "    # 3) Loop through k\n",
    "    fopt = np.inf\n",
    "    xopt = np.nan\n",
    "    xs = np.empty((max_K, 2))\n",
    "    fs = np.empty(max_K)\n",
    "\n",
    "    for k in range(max_K):\n",
    "        # A) Draw k uniformly within chosen bounds\n",
    "        np.random.seed(2023)\n",
    "        xk = bounds[0] + (bounds[1] - bounds[0]) * np.random.uniform(size=(5000, 2))\n",
    "\n",
    "        # B) if k < K run optimizer\n",
    "        if k < K_warmup:\n",
    "            x_guess = xk[0, :]\n",
    "            xk_star = optimize.minimize(griewank, x_guess, method='BFGS', tol=tolerance)\n",
    "            xs[k] = xk_star.x\n",
    "            fs[k] = xk_star.fun\n",
    "        else:\n",
    "            # C) calculate chi\n",
    "            chi = 0.5 * (2 / (1 + np.exp((k - K_warmup)) / 100))\n",
    "\n",
    "            # D) set x(0)\n",
    "            xk[0] = chi * xk + (1 - chi) * xs[k - 1]\n",
    "            xk[0] = np.squeeze(xk[0])  # set x0 to 1 dimension so that code can run without error\n",
    "\n",
    "            # E) run optimizer\n",
    "            xk_star = optimize.minimize(griewank, xk[0], method='BFGS', tol=tolerance)\n",
    "            xs[k] = xk_star.x\n",
    "            fs[k] = xk_star.fun\n",
    "\n",
    "            # F) set x_star\n",
    "            if fs[k] <= fs[k - 1]:\n",
    "                fopt = fs[k]\n",
    "                xopt = xs[k]\n",
    "\n",
    "        # Print the results for each iteration\n",
    "        print(f'{k + 1:4d}: x0 = ({xk[0][0]:7.2f},{xk[0][1]:7.2f})', end='')\n",
    "        print(f' -> converged at ({xs[k][0]:7.2f},{xs[k][1]:7.2f}) with f = {fs[k]:12.8f}')\n",
    "\n",
    "    # best solution\n",
    "    print(f'\\nbest solution:\\n x = ({xopt[0]:7.2f},{xopt[1]:7.2f}) -> f = {fopt:12.8f}')\n"
   ]
  },
  {
   "cell_type": "code",
   "execution_count": 141,
   "metadata": {},
   "outputs": [
    {
     "name": "stdout",
     "output_type": "stream",
     "text": [
      "min(x0s) = -599.99, max(x0s) = 599.94\n"
     ]
    }
   ],
   "source": [
    "#control if bounds are set correct \n",
    "np.random.seed(2023)\n",
    "xk = bounds[0] + (bounds[1] - bounds[0]) * np.random.uniform(size=(5000, 2))\n",
    "print(f'min(x0s) = {np.min(xk):.2f}, max(x0s) = {np.max(xk):.2f}')"
   ]
  },
  {
   "cell_type": "code",
   "execution_count": 142,
   "metadata": {},
   "outputs": [
    {
     "name": "stdout",
     "output_type": "stream",
     "text": [
      "   1: x0 = (-213.61, 468.51) -> converged at (-213.51, 470.46) with f =  66.79472511\n",
      "   2: x0 = (-213.61, 468.51) -> converged at (-213.51, 470.46) with f =  66.79472511\n",
      "   3: x0 = (-213.61, 468.51) -> converged at (-213.51, 470.46) with f =  66.79472511\n",
      "   4: x0 = (-213.61, 468.51) -> converged at (-213.51, 470.46) with f =  66.79472511\n",
      "   5: x0 = (-213.61, 468.51) -> converged at (-213.51, 470.46) with f =  66.79472511\n",
      "   6: x0 = (-213.61, 468.51) -> converged at (-213.51, 470.46) with f =  66.79472511\n",
      "   7: x0 = (-213.61, 468.51) -> converged at (-213.51, 470.46) with f =  66.79472511\n",
      "   8: x0 = (-213.61, 468.51) -> converged at (-213.51, 470.46) with f =  66.79472511\n",
      "   9: x0 = (-213.61, 468.51) -> converged at (-213.51, 470.46) with f =  66.79472511\n",
      "  10: x0 = (-213.61, 468.51) -> converged at (-213.51, 470.46) with f =  66.79472511\n"
     ]
    },
    {
     "ename": "ValueError",
     "evalue": "could not broadcast input array from shape (5000,2) into shape (2,)",
     "output_type": "error",
     "traceback": [
      "\u001b[1;31m---------------------------------------------------------------------------\u001b[0m",
      "\u001b[1;31mValueError\u001b[0m                                Traceback (most recent call last)",
      "\u001b[1;32m~\\AppData\\Local\\Temp\\ipykernel_18844\\3584369638.py\u001b[0m in \u001b[0;36m<module>\u001b[1;34m\u001b[0m\n\u001b[0;32m      3\u001b[0m \u001b[0mK_warmup\u001b[0m \u001b[1;33m=\u001b[0m \u001b[1;36m10\u001b[0m\u001b[1;33m\u001b[0m\u001b[1;33m\u001b[0m\u001b[0m\n\u001b[0;32m      4\u001b[0m \u001b[0mmax_K\u001b[0m \u001b[1;33m=\u001b[0m \u001b[1;36m1000\u001b[0m\u001b[1;33m\u001b[0m\u001b[1;33m\u001b[0m\u001b[0m\n\u001b[1;32m----> 5\u001b[1;33m \u001b[0mglobal_optm\u001b[0m\u001b[1;33m(\u001b[0m\u001b[0mbounds\u001b[0m\u001b[1;33m,\u001b[0m \u001b[0mtolerance\u001b[0m\u001b[1;33m,\u001b[0m \u001b[0mK_warmup\u001b[0m\u001b[1;33m,\u001b[0m \u001b[0mmax_K\u001b[0m\u001b[1;33m)\u001b[0m\u001b[1;33m\u001b[0m\u001b[1;33m\u001b[0m\u001b[0m\n\u001b[0m",
      "\u001b[1;32m~\\AppData\\Local\\Temp\\ipykernel_18844\\2803983163.py\u001b[0m in \u001b[0;36mglobal_optm\u001b[1;34m(bounds, tolerance, K_warmup, max_K)\u001b[0m\n\u001b[0;32m     30\u001b[0m \u001b[1;33m\u001b[0m\u001b[0m\n\u001b[0;32m     31\u001b[0m             \u001b[1;31m# D) set x(0)\u001b[0m\u001b[1;33m\u001b[0m\u001b[1;33m\u001b[0m\u001b[1;33m\u001b[0m\u001b[0m\n\u001b[1;32m---> 32\u001b[1;33m             \u001b[0mxk\u001b[0m\u001b[1;33m[\u001b[0m\u001b[1;36m0\u001b[0m\u001b[1;33m]\u001b[0m \u001b[1;33m=\u001b[0m \u001b[0mchi\u001b[0m \u001b[1;33m*\u001b[0m \u001b[0mxk\u001b[0m \u001b[1;33m+\u001b[0m \u001b[1;33m(\u001b[0m\u001b[1;36m1\u001b[0m \u001b[1;33m-\u001b[0m \u001b[0mchi\u001b[0m\u001b[1;33m)\u001b[0m \u001b[1;33m*\u001b[0m \u001b[0mxs\u001b[0m\u001b[1;33m[\u001b[0m\u001b[0mk\u001b[0m \u001b[1;33m-\u001b[0m \u001b[1;36m1\u001b[0m\u001b[1;33m]\u001b[0m\u001b[1;33m\u001b[0m\u001b[1;33m\u001b[0m\u001b[0m\n\u001b[0m\u001b[0;32m     33\u001b[0m             \u001b[0mxk\u001b[0m\u001b[1;33m[\u001b[0m\u001b[1;36m0\u001b[0m\u001b[1;33m]\u001b[0m \u001b[1;33m=\u001b[0m \u001b[0mnp\u001b[0m\u001b[1;33m.\u001b[0m\u001b[0msqueeze\u001b[0m\u001b[1;33m(\u001b[0m\u001b[0mxk\u001b[0m\u001b[1;33m[\u001b[0m\u001b[1;36m0\u001b[0m\u001b[1;33m]\u001b[0m\u001b[1;33m)\u001b[0m  \u001b[1;31m# set x0 to 1 dimension so that code can run without error\u001b[0m\u001b[1;33m\u001b[0m\u001b[1;33m\u001b[0m\u001b[0m\n\u001b[0;32m     34\u001b[0m \u001b[1;33m\u001b[0m\u001b[0m\n",
      "\u001b[1;31mValueError\u001b[0m: could not broadcast input array from shape (5000,2) into shape (2,)"
     ]
    }
   ],
   "source": [
    "#settings for optimization\n",
    "tolerance = 1e-8\n",
    "K_warmup = 10\n",
    "max_K = 1000\n",
    "global_optm(bounds, tolerance, K_warmup, max_K)"
   ]
  },
  {
   "cell_type": "code",
   "execution_count": 144,
   "metadata": {},
   "outputs": [
    {
     "ename": "AttributeError",
     "evalue": "'function' object has no attribute 'xs'",
     "output_type": "error",
     "traceback": [
      "\u001b[1;31m---------------------------------------------------------------------------\u001b[0m",
      "\u001b[1;31mAttributeError\u001b[0m                            Traceback (most recent call last)",
      "\u001b[1;32m~\\AppData\\Local\\Temp\\ipykernel_18844\\133663073.py\u001b[0m in \u001b[0;36m<module>\u001b[1;34m\u001b[0m\n\u001b[0;32m      1\u001b[0m \u001b[0mfig\u001b[0m \u001b[1;33m=\u001b[0m \u001b[0mplt\u001b[0m\u001b[1;33m.\u001b[0m\u001b[0mfigure\u001b[0m\u001b[1;33m(\u001b[0m\u001b[1;33m)\u001b[0m\u001b[1;33m\u001b[0m\u001b[1;33m\u001b[0m\u001b[0m\n\u001b[0;32m      2\u001b[0m \u001b[0max\u001b[0m \u001b[1;33m=\u001b[0m \u001b[0mfig\u001b[0m\u001b[1;33m.\u001b[0m\u001b[0madd_subplot\u001b[0m\u001b[1;33m(\u001b[0m\u001b[1;36m1\u001b[0m\u001b[1;33m,\u001b[0m\u001b[1;36m1\u001b[0m\u001b[1;33m,\u001b[0m\u001b[1;36m1\u001b[0m\u001b[1;33m)\u001b[0m\u001b[1;33m\u001b[0m\u001b[1;33m\u001b[0m\u001b[0m\n\u001b[1;32m----> 3\u001b[1;33m \u001b[0max\u001b[0m\u001b[1;33m.\u001b[0m\u001b[0mscatter\u001b[0m\u001b[1;33m(\u001b[0m\u001b[0mglobal_optm\u001b[0m\u001b[1;33m.\u001b[0m\u001b[0mxs\u001b[0m\u001b[1;33m[\u001b[0m\u001b[1;33m:\u001b[0m\u001b[1;33m,\u001b[0m\u001b[1;36m0\u001b[0m\u001b[1;33m]\u001b[0m\u001b[1;33m,\u001b[0m\u001b[0mglobal_optm\u001b[0m\u001b[1;33m.\u001b[0m\u001b[0mxs\u001b[0m\u001b[1;33m[\u001b[0m\u001b[1;33m:\u001b[0m\u001b[1;33m,\u001b[0m\u001b[1;36m1\u001b[0m\u001b[1;33m]\u001b[0m\u001b[1;33m)\u001b[0m\u001b[1;33m\u001b[0m\u001b[1;33m\u001b[0m\u001b[0m\n\u001b[0m\u001b[0;32m      4\u001b[0m \u001b[0max\u001b[0m\u001b[1;33m.\u001b[0m\u001b[0mset_xlabel\u001b[0m\u001b[1;33m(\u001b[0m\u001b[1;34m'$x_1$'\u001b[0m\u001b[1;33m)\u001b[0m\u001b[1;33m\u001b[0m\u001b[1;33m\u001b[0m\u001b[0m\n\u001b[0;32m      5\u001b[0m \u001b[0max\u001b[0m\u001b[1;33m.\u001b[0m\u001b[0mset_ylabel\u001b[0m\u001b[1;33m(\u001b[0m\u001b[1;34m'$x_2$'\u001b[0m\u001b[1;33m)\u001b[0m\u001b[1;33m\u001b[0m\u001b[1;33m\u001b[0m\u001b[0m\n",
      "\u001b[1;31mAttributeError\u001b[0m: 'function' object has no attribute 'xs'"
     ]
    },
    {
     "data": {
      "image/png": "[encoded data removed]",
      "text/plain": [
       "<Figure size 640x480 with 1 Axes>"
      ]
     },
     "metadata": {},
     "output_type": "display_data"
    }
   ],
   "source": [
    "fig = plt.figure()\n",
    "ax = fig.add_subplot(1,1,1)\n",
    "ax.scatter(global_optm.xs[:,0],global_optm.xs[:,1])\n",
    "ax.set_xlabel('$x_1$')\n",
    "ax.set_ylabel('$x_2$')"
   ]
  },
  {
   "attachments": {},
   "cell_type": "markdown",
   "metadata": {},
   "source": [
    "**Question 2:** Is it a better idea to set $\\underline{K} = 100$? Is the convergence faster?"
   ]
  },
  {
   "cell_type": "code",
   "execution_count": 145,
   "metadata": {},
   "outputs": [
    {
     "name": "stdout",
     "output_type": "stream",
     "text": [
      "   1: x0 = (-213.61, 468.51) -> converged at (-213.51, 470.46) with f =  66.79472511\n",
      "   2: x0 = (-213.61, 468.51) -> converged at (-213.51, 470.46) with f =  66.79472511\n",
      "   3: x0 = (-213.61, 468.51) -> converged at (-213.51, 470.46) with f =  66.79472511\n",
      "   4: x0 = (-213.61, 468.51) -> converged at (-213.51, 470.46) with f =  66.79472511\n",
      "   5: x0 = (-213.61, 468.51) -> converged at (-213.51, 470.46) with f =  66.79472511\n",
      "   6: x0 = (-213.61, 468.51) -> converged at (-213.51, 470.46) with f =  66.79472511\n",
      "   7: x0 = (-213.61, 468.51) -> converged at (-213.51, 470.46) with f =  66.79472511\n",
      "   8: x0 = (-213.61, 468.51) -> converged at (-213.51, 470.46) with f =  66.79472511\n",
      "   9: x0 = (-213.61, 468.51) -> converged at (-213.51, 470.46) with f =  66.79472511\n",
      "  10: x0 = (-213.61, 468.51) -> converged at (-213.51, 470.46) with f =  66.79472511\n",
      "  11: x0 = (-213.61, 468.51) -> converged at (-213.51, 470.46) with f =  66.79472511\n",
      "  12: x0 = (-213.61, 468.51) -> converged at (-213.51, 470.46) with f =  66.79472511\n",
      "  13: x0 = (-213.61, 468.51) -> converged at (-213.51, 470.46) with f =  66.79472511\n",
      "  14: x0 = (-213.61, 468.51) -> converged at (-213.51, 470.46) with f =  66.79472511\n",
      "  15: x0 = (-213.61, 468.51) -> converged at (-213.51, 470.46) with f =  66.79472511\n",
      "  16: x0 = (-213.61, 468.51) -> converged at (-213.51, 470.46) with f =  66.79472511\n",
      "  17: x0 = (-213.61, 468.51) -> converged at (-213.51, 470.46) with f =  66.79472511\n",
      "  18: x0 = (-213.61, 468.51) -> converged at (-213.51, 470.46) with f =  66.79472511\n",
      "  19: x0 = (-213.61, 468.51) -> converged at (-213.51, 470.46) with f =  66.79472511\n",
      "  20: x0 = (-213.61, 468.51) -> converged at (-213.51, 470.46) with f =  66.79472511\n",
      "  21: x0 = (-213.61, 468.51) -> converged at (-213.51, 470.46) with f =  66.79472511\n",
      "  22: x0 = (-213.61, 468.51) -> converged at (-213.51, 470.46) with f =  66.79472511\n",
      "  23: x0 = (-213.61, 468.51) -> converged at (-213.51, 470.46) with f =  66.79472511\n",
      "  24: x0 = (-213.61, 468.51) -> converged at (-213.51, 470.46) with f =  66.79472511\n",
      "  25: x0 = (-213.61, 468.51) -> converged at (-213.51, 470.46) with f =  66.79472511\n",
      "  26: x0 = (-213.61, 468.51) -> converged at (-213.51, 470.46) with f =  66.79472511\n",
      "  27: x0 = (-213.61, 468.51) -> converged at (-213.51, 470.46) with f =  66.79472511\n",
      "  28: x0 = (-213.61, 468.51) -> converged at (-213.51, 470.46) with f =  66.79472511\n",
      "  29: x0 = (-213.61, 468.51) -> converged at (-213.51, 470.46) with f =  66.79472511\n",
      "  30: x0 = (-213.61, 468.51) -> converged at (-213.51, 470.46) with f =  66.79472511\n",
      "  31: x0 = (-213.61, 468.51) -> converged at (-213.51, 470.46) with f =  66.79472511\n",
      "  32: x0 = (-213.61, 468.51) -> converged at (-213.51, 470.46) with f =  66.79472511\n",
      "  33: x0 = (-213.61, 468.51) -> converged at (-213.51, 470.46) with f =  66.79472511\n",
      "  34: x0 = (-213.61, 468.51) -> converged at (-213.51, 470.46) with f =  66.79472511\n",
      "  35: x0 = (-213.61, 468.51) -> converged at (-213.51, 470.46) with f =  66.79472511\n",
      "  36: x0 = (-213.61, 468.51) -> converged at (-213.51, 470.46) with f =  66.79472511\n",
      "  37: x0 = (-213.61, 468.51) -> converged at (-213.51, 470.46) with f =  66.79472511\n",
      "  38: x0 = (-213.61, 468.51) -> converged at (-213.51, 470.46) with f =  66.79472511\n",
      "  39: x0 = (-213.61, 468.51) -> converged at (-213.51, 470.46) with f =  66.79472511\n",
      "  40: x0 = (-213.61, 468.51) -> converged at (-213.51, 470.46) with f =  66.79472511\n",
      "  41: x0 = (-213.61, 468.51) -> converged at (-213.51, 470.46) with f =  66.79472511\n",
      "  42: x0 = (-213.61, 468.51) -> converged at (-213.51, 470.46) with f =  66.79472511\n",
      "  43: x0 = (-213.61, 468.51) -> converged at (-213.51, 470.46) with f =  66.79472511\n",
      "  44: x0 = (-213.61, 468.51) -> converged at (-213.51, 470.46) with f =  66.79472511\n",
      "  45: x0 = (-213.61, 468.51) -> converged at (-213.51, 470.46) with f =  66.79472511\n",
      "  46: x0 = (-213.61, 468.51) -> converged at (-213.51, 470.46) with f =  66.79472511\n",
      "  47: x0 = (-213.61, 468.51) -> converged at (-213.51, 470.46) with f =  66.79472511\n",
      "  48: x0 = (-213.61, 468.51) -> converged at (-213.51, 470.46) with f =  66.79472511\n",
      "  49: x0 = (-213.61, 468.51) -> converged at (-213.51, 470.46) with f =  66.79472511\n",
      "  50: x0 = (-213.61, 468.51) -> converged at (-213.51, 470.46) with f =  66.79472511\n",
      "  51: x0 = (-213.61, 468.51) -> converged at (-213.51, 470.46) with f =  66.79472511\n",
      "  52: x0 = (-213.61, 468.51) -> converged at (-213.51, 470.46) with f =  66.79472511\n",
      "  53: x0 = (-213.61, 468.51) -> converged at (-213.51, 470.46) with f =  66.79472511\n",
      "  54: x0 = (-213.61, 468.51) -> converged at (-213.51, 470.46) with f =  66.79472511\n",
      "  55: x0 = (-213.61, 468.51) -> converged at (-213.51, 470.46) with f =  66.79472511\n",
      "  56: x0 = (-213.61, 468.51) -> converged at (-213.51, 470.46) with f =  66.79472511\n",
      "  57: x0 = (-213.61, 468.51) -> converged at (-213.51, 470.46) with f =  66.79472511\n",
      "  58: x0 = (-213.61, 468.51) -> converged at (-213.51, 470.46) with f =  66.79472511\n",
      "  59: x0 = (-213.61, 468.51) -> converged at (-213.51, 470.46) with f =  66.79472511\n",
      "  60: x0 = (-213.61, 468.51) -> converged at (-213.51, 470.46) with f =  66.79472511\n",
      "  61: x0 = (-213.61, 468.51) -> converged at (-213.51, 470.46) with f =  66.79472511\n",
      "  62: x0 = (-213.61, 468.51) -> converged at (-213.51, 470.46) with f =  66.79472511\n",
      "  63: x0 = (-213.61, 468.51) -> converged at (-213.51, 470.46) with f =  66.79472511\n",
      "  64: x0 = (-213.61, 468.51) -> converged at (-213.51, 470.46) with f =  66.79472511\n",
      "  65: x0 = (-213.61, 468.51) -> converged at (-213.51, 470.46) with f =  66.79472511\n",
      "  66: x0 = (-213.61, 468.51) -> converged at (-213.51, 470.46) with f =  66.79472511\n",
      "  67: x0 = (-213.61, 468.51) -> converged at (-213.51, 470.46) with f =  66.79472511\n",
      "  68: x0 = (-213.61, 468.51) -> converged at (-213.51, 470.46) with f =  66.79472511\n",
      "  69: x0 = (-213.61, 468.51) -> converged at (-213.51, 470.46) with f =  66.79472511\n",
      "  70: x0 = (-213.61, 468.51) -> converged at (-213.51, 470.46) with f =  66.79472511\n",
      "  71: x0 = (-213.61, 468.51) -> converged at (-213.51, 470.46) with f =  66.79472511\n",
      "  72: x0 = (-213.61, 468.51) -> converged at (-213.51, 470.46) with f =  66.79472511\n",
      "  73: x0 = (-213.61, 468.51) -> converged at (-213.51, 470.46) with f =  66.79472511\n",
      "  74: x0 = (-213.61, 468.51) -> converged at (-213.51, 470.46) with f =  66.79472511\n",
      "  75: x0 = (-213.61, 468.51) -> converged at (-213.51, 470.46) with f =  66.79472511\n",
      "  76: x0 = (-213.61, 468.51) -> converged at (-213.51, 470.46) with f =  66.79472511\n",
      "  77: x0 = (-213.61, 468.51) -> converged at (-213.51, 470.46) with f =  66.79472511\n",
      "  78: x0 = (-213.61, 468.51) -> converged at (-213.51, 470.46) with f =  66.79472511\n",
      "  79: x0 = (-213.61, 468.51) -> converged at (-213.51, 470.46) with f =  66.79472511\n",
      "  80: x0 = (-213.61, 468.51) -> converged at (-213.51, 470.46) with f =  66.79472511\n",
      "  81: x0 = (-213.61, 468.51) -> converged at (-213.51, 470.46) with f =  66.79472511\n",
      "  82: x0 = (-213.61, 468.51) -> converged at (-213.51, 470.46) with f =  66.79472511\n",
      "  83: x0 = (-213.61, 468.51) -> converged at (-213.51, 470.46) with f =  66.79472511\n",
      "  84: x0 = (-213.61, 468.51) -> converged at (-213.51, 470.46) with f =  66.79472511\n",
      "  85: x0 = (-213.61, 468.51) -> converged at (-213.51, 470.46) with f =  66.79472511\n",
      "  86: x0 = (-213.61, 468.51) -> converged at (-213.51, 470.46) with f =  66.79472511\n",
      "  87: x0 = (-213.61, 468.51) -> converged at (-213.51, 470.46) with f =  66.79472511\n",
      "  88: x0 = (-213.61, 468.51) -> converged at (-213.51, 470.46) with f =  66.79472511\n",
      "  89: x0 = (-213.61, 468.51) -> converged at (-213.51, 470.46) with f =  66.79472511\n",
      "  90: x0 = (-213.61, 468.51) -> converged at (-213.51, 470.46) with f =  66.79472511\n",
      "  91: x0 = (-213.61, 468.51) -> converged at (-213.51, 470.46) with f =  66.79472511\n",
      "  92: x0 = (-213.61, 468.51) -> converged at (-213.51, 470.46) with f =  66.79472511\n",
      "  93: x0 = (-213.61, 468.51) -> converged at (-213.51, 470.46) with f =  66.79472511\n",
      "  94: x0 = (-213.61, 468.51) -> converged at (-213.51, 470.46) with f =  66.79472511\n",
      "  95: x0 = (-213.61, 468.51) -> converged at (-213.51, 470.46) with f =  66.79472511\n",
      "  96: x0 = (-213.61, 468.51) -> converged at (-213.51, 470.46) with f =  66.79472511\n",
      "  97: x0 = (-213.61, 468.51) -> converged at (-213.51, 470.46) with f =  66.79472511\n",
      "  98: x0 = (-213.61, 468.51) -> converged at (-213.51, 470.46) with f =  66.79472511\n",
      "  99: x0 = (-213.61, 468.51) -> converged at (-213.51, 470.46) with f =  66.79472511\n",
      " 100: x0 = (-213.61, 468.51) -> converged at (-213.51, 470.46) with f =  66.79472511\n"
     ]
    },
    {
     "ename": "ValueError",
     "evalue": "could not broadcast input array from shape (5000,2) into shape (2,)",
     "output_type": "error",
     "traceback": [
      "\u001b[1;31m---------------------------------------------------------------------------\u001b[0m",
      "\u001b[1;31mValueError\u001b[0m                                Traceback (most recent call last)",
      "\u001b[1;32m~\\AppData\\Local\\Temp\\ipykernel_18844\\1738953.py\u001b[0m in \u001b[0;36m<module>\u001b[1;34m\u001b[0m\n\u001b[0;32m      1\u001b[0m \u001b[1;31m#set K_warmup to 100 and run optimizer\u001b[0m\u001b[1;33m\u001b[0m\u001b[1;33m\u001b[0m\u001b[1;33m\u001b[0m\u001b[0m\n\u001b[0;32m      2\u001b[0m \u001b[0mK_warmup_new\u001b[0m \u001b[1;33m=\u001b[0m \u001b[1;36m100\u001b[0m\u001b[1;33m\u001b[0m\u001b[1;33m\u001b[0m\u001b[0m\n\u001b[1;32m----> 3\u001b[1;33m \u001b[0mglobal_optm\u001b[0m\u001b[1;33m(\u001b[0m\u001b[0mbounds\u001b[0m\u001b[1;33m,\u001b[0m \u001b[0mtolerance\u001b[0m\u001b[1;33m,\u001b[0m \u001b[0mK_warmup_new\u001b[0m\u001b[1;33m,\u001b[0m \u001b[0mmax_K\u001b[0m\u001b[1;33m)\u001b[0m\u001b[1;33m\u001b[0m\u001b[1;33m\u001b[0m\u001b[0m\n\u001b[0m\u001b[0;32m      4\u001b[0m \u001b[1;33m\u001b[0m\u001b[0m\n",
      "\u001b[1;32m~\\AppData\\Local\\Temp\\ipykernel_18844\\2803983163.py\u001b[0m in \u001b[0;36mglobal_optm\u001b[1;34m(bounds, tolerance, K_warmup, max_K)\u001b[0m\n\u001b[0;32m     30\u001b[0m \u001b[1;33m\u001b[0m\u001b[0m\n\u001b[0;32m     31\u001b[0m             \u001b[1;31m# D) set x(0)\u001b[0m\u001b[1;33m\u001b[0m\u001b[1;33m\u001b[0m\u001b[1;33m\u001b[0m\u001b[0m\n\u001b[1;32m---> 32\u001b[1;33m             \u001b[0mxk\u001b[0m\u001b[1;33m[\u001b[0m\u001b[1;36m0\u001b[0m\u001b[1;33m]\u001b[0m \u001b[1;33m=\u001b[0m \u001b[0mchi\u001b[0m \u001b[1;33m*\u001b[0m \u001b[0mxk\u001b[0m \u001b[1;33m+\u001b[0m \u001b[1;33m(\u001b[0m\u001b[1;36m1\u001b[0m \u001b[1;33m-\u001b[0m \u001b[0mchi\u001b[0m\u001b[1;33m)\u001b[0m \u001b[1;33m*\u001b[0m \u001b[0mxs\u001b[0m\u001b[1;33m[\u001b[0m\u001b[0mk\u001b[0m \u001b[1;33m-\u001b[0m \u001b[1;36m1\u001b[0m\u001b[1;33m]\u001b[0m\u001b[1;33m\u001b[0m\u001b[1;33m\u001b[0m\u001b[0m\n\u001b[0m\u001b[0;32m     33\u001b[0m             \u001b[0mxk\u001b[0m\u001b[1;33m[\u001b[0m\u001b[1;36m0\u001b[0m\u001b[1;33m]\u001b[0m \u001b[1;33m=\u001b[0m \u001b[0mnp\u001b[0m\u001b[1;33m.\u001b[0m\u001b[0msqueeze\u001b[0m\u001b[1;33m(\u001b[0m\u001b[0mxk\u001b[0m\u001b[1;33m[\u001b[0m\u001b[1;36m0\u001b[0m\u001b[1;33m]\u001b[0m\u001b[1;33m)\u001b[0m  \u001b[1;31m# set x0 to 1 dimension so that code can run without error\u001b[0m\u001b[1;33m\u001b[0m\u001b[1;33m\u001b[0m\u001b[0m\n\u001b[0;32m     34\u001b[0m \u001b[1;33m\u001b[0m\u001b[0m\n",
      "\u001b[1;31mValueError\u001b[0m: could not broadcast input array from shape (5000,2) into shape (2,)"
     ]
    }
   ],
   "source": [
    "#set K_warmup to 100 and run optimizer\n",
    "K_warmup_new = 100\n",
    "global_optm(bounds, tolerance, K_warmup_new, max_K)"
   ]
  }
 ],
 "metadata": {
  "kernelspec": {
   "display_name": "base",
   "language": "python",
   "name": "python3"
  },
  "language_info": {
   "codemirror_mode": {
    "name": "ipython",
    "version": 3
   },
   "file_extension": ".py",
   "mimetype": "text/x-python",
   "name": "python",
   "nbconvert_exporter": "python",
   "pygments_lexer": "ipython3",
   "version": "3.8.16"
  },
  "orig_nbformat": 4
 },
 "nbformat": 4,
 "nbformat_minor": 2
}
